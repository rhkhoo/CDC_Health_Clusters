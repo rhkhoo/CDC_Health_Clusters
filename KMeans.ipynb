{
 "cells": [
  {
   "cell_type": "markdown",
   "metadata": {},
   "source": [
    "The dataset is originally from the Centers for Disease Control and Prevention: link [here](https://nccd.cdc.gov/500_Cities/rdPage.aspx?rdReport=DPH_500_Cities.ComparisonReport)\n",
    "\n",
    "The dataset was compiled on Kaggle: link [here](https://www.kaggle.com/cdc/500-cities)"
   ]
  },
  {
   "cell_type": "markdown",
   "metadata": {},
   "source": [
    "The variables in this dataset can be divided into four groups:\n",
    "\n",
    "### Location/Identificaion\n",
    "**StateAbbr** - state abbreviation<br>\n",
    "**PlaceName** - city name<br>\n",
    "**PlaceFIPS** - Federal Information Processing System code. Identifies county <br>\n",
    "**Population2010** - population from 2010 US Census<br>\n",
    "**Geolocation** - latitude and longitude of location<br><br>\n",
    "\n",
    "### Health Outcomes\n",
    "**ARTHRITIS** - arthritis among adults aged 18 years and older<br>\n",
    "**BPHIGH** - high blood pressure among adults aged 18 years and older<br>\n",
    "**CANCER** - cancer (excluding skin cancer) among adulsts aged 18 years and older<br>\n",
    "**CASTHMA** - current asthma among adults aged 18 years and older<br>\n",
    "**CHD** - coronary heart disease among adults aged 18 years and older<br>\n",
    "**COPD** - chronic obstructive pulmonary disease among adults aged 18 years and older<br>\n",
    "**DENTAL** - visits to dentist or dental clinic among adults aged 18 years and older<br>\n",
    "**DIABETES** - diagnosed diabetes among adults aged 18 years and older<br>\n",
    "**HIGHCHOL** - high cholesterol among adults aged 18 years and older<br>\n",
    "**KIDNEY** - chronic kidney disease among adults aged 18 years and older<br>\n",
    "**MHLTH** - mental health not good for at least 14 days among adults aged 18 years and older<br>\n",
    "**PHLTH** - physical health not good for at least 14 days among adults aged 18 years and older<br>\n",
    "**STROKE** - stroke among adults aged 18 years and older<br>\n",
    "**TEETHLOST** - all teeth lost among adults aged 65 years and older<br><br>\n",
    "\n",
    "### Prevention\n",
    "**ACCESS2** - current lack of health insurance among adults aged 18-64 years <br>\n",
    "**BPMED** - taking medicine for high blood pressure control among adults aged 18 years and older with high blood pressure<br>\n",
    "**CHECKUP** - visits to doctor for routine checkup within the past year among adults aged 18 years and older <br>\n",
    "**CHOLSCREEN** - cholesterol screening among adults aged 18 years and older<br>\n",
    "**COLON_SCREEN** - fecal occult blood test, sigmoidoscopy, or solonoscopy among adults aged 50-75 years <br>\n",
    "**COREM** - older adult males aged 65 and older who are up to date on a core set of clinincal preventive services<br>\n",
    "**COREW** - older adult females aged 65 and older who are up to date on a core set of clinincal preventive services<br>\n",
    "**DENTAL** - visits to dentist or dental clinic among adults aged 18 years and older<br>\n",
    "**MAMMOUSE** - mammography use among women aged 50-74 years<br>\n",
    "**PAPTEST** - Papanicolaou smear use among adult women aged 21-65 years<br><br>\n",
    "\n",
    "### Unhealthy Behaviors\n",
    "**BINGE** - binge drinking among adults aged 18 years and older <br>\n",
    "**CSMOKING** - current smoking among adults 18 and older<br>\n",
    "**LPA** - no leisure-time physical activity aong adults aged 18 and older<br>\n",
    "**OBESITY** - obesity among adults aged 18 and older<br>\n",
    "**SLEEP** - sleeping less than 7 hours among adults aged 18 and older<br><br>\n",
    "\n",
    "The crude prevalence and the age-adjusted prevalence for each of the features in the last three groups are measured in this dataset. The ranges in the 95% confidence interval are also in the dataset.<br>\n",
    "\n",
    "For example, `ARTHRITIS_CrudePrev` represents the crude prevalence of arthritis and `ARTHRITIS_Adj95CI` represents the confidence interval of the age-adjusted prevalence of arthritis."
   ]
  },
  {
   "cell_type": "code",
   "execution_count": 1,
   "metadata": {},
   "outputs": [],
   "source": [
    "import pandas as pd\n",
    "import matplotlib.pyplot as plt\n",
    "import seaborn as sns\n",
    "import numpy as np\n",
    "import plotly.express as px\n",
    "from statsmodels.graphics.gofplots import qqplot\n",
    "import scipy.stats as stats\n",
    "\n",
    "from sklearn.cluster import KMeans\n",
    "\n",
    "from sklearn.decomposition import PCA\n",
    "from sklearn.preprocessing import StandardScaler\n",
    "from sklearn.metrics import silhouette_score"
   ]
  },
  {
   "cell_type": "code",
   "execution_count": 2,
   "metadata": {},
   "outputs": [],
   "source": [
    "cdc = pd.read_csv('500_Cities_CDC.csv')\n",
    "cdc_og = cdc.copy()"
   ]
  },
  {
   "cell_type": "code",
   "execution_count": 3,
   "metadata": {},
   "outputs": [
    {
     "data": {
      "text/html": [
       "<div>\n",
       "<style scoped>\n",
       "    .dataframe tbody tr th:only-of-type {\n",
       "        vertical-align: middle;\n",
       "    }\n",
       "\n",
       "    .dataframe tbody tr th {\n",
       "        vertical-align: top;\n",
       "    }\n",
       "\n",
       "    .dataframe thead th {\n",
       "        text-align: right;\n",
       "    }\n",
       "</style>\n",
       "<table border=\"1\" class=\"dataframe\">\n",
       "  <thead>\n",
       "    <tr style=\"text-align: right;\">\n",
       "      <th></th>\n",
       "      <th>StateAbbr</th>\n",
       "      <th>PlaceName</th>\n",
       "      <th>PlaceFIPS</th>\n",
       "      <th>Population2010</th>\n",
       "      <th>ACCESS2_CrudePrev</th>\n",
       "      <th>ACCESS2_Crude95CI</th>\n",
       "      <th>ACCESS2_AdjPrev</th>\n",
       "      <th>ACCESS2_Adj95CI</th>\n",
       "      <th>ARTHRITIS_CrudePrev</th>\n",
       "      <th>ARTHRITIS_Crude95CI</th>\n",
       "      <th>...</th>\n",
       "      <th>SLEEP_Adj95CI</th>\n",
       "      <th>STROKE_CrudePrev</th>\n",
       "      <th>STROKE_Crude95CI</th>\n",
       "      <th>STROKE_AdjPrev</th>\n",
       "      <th>STROKE_Adj95CI</th>\n",
       "      <th>TEETHLOST_CrudePrev</th>\n",
       "      <th>TEETHLOST_Crude95CI</th>\n",
       "      <th>TEETHLOST_AdjPrev</th>\n",
       "      <th>TEETHLOST_Adj95CI</th>\n",
       "      <th>Geolocation</th>\n",
       "    </tr>\n",
       "  </thead>\n",
       "  <tbody>\n",
       "    <tr>\n",
       "      <th>0</th>\n",
       "      <td>AL</td>\n",
       "      <td>Birmingham</td>\n",
       "      <td>107000</td>\n",
       "      <td>212237</td>\n",
       "      <td>22.6</td>\n",
       "      <td>(22.1, 23.0)</td>\n",
       "      <td>21.4</td>\n",
       "      <td>(21.0, 21.8)</td>\n",
       "      <td>32.6</td>\n",
       "      <td>(32.5, 32.8)</td>\n",
       "      <td>...</td>\n",
       "      <td>(46.6, 47.0)</td>\n",
       "      <td>5.0</td>\n",
       "      <td>( 5.0,  5.1)</td>\n",
       "      <td>5.0</td>\n",
       "      <td>( 5.0,  5.1)</td>\n",
       "      <td>26.1</td>\n",
       "      <td>(25.1, 27.2)</td>\n",
       "      <td>25.9</td>\n",
       "      <td>(25.0, 26.9)</td>\n",
       "      <td>(33.52756637730, -86.7988174678)</td>\n",
       "    </tr>\n",
       "    <tr>\n",
       "      <th>1</th>\n",
       "      <td>AL</td>\n",
       "      <td>Hoover</td>\n",
       "      <td>135896</td>\n",
       "      <td>81619</td>\n",
       "      <td>10.6</td>\n",
       "      <td>(10.2, 11.1)</td>\n",
       "      <td>10.2</td>\n",
       "      <td>( 9.7, 10.7)</td>\n",
       "      <td>26.3</td>\n",
       "      <td>(26.0, 26.6)</td>\n",
       "      <td>...</td>\n",
       "      <td>(34.2, 35.0)</td>\n",
       "      <td>2.3</td>\n",
       "      <td>( 2.2,  2.3)</td>\n",
       "      <td>2.2</td>\n",
       "      <td>( 2.1,  2.3)</td>\n",
       "      <td>9.6</td>\n",
       "      <td>( 8.6, 10.8)</td>\n",
       "      <td>9.5</td>\n",
       "      <td>( 8.5, 10.9)</td>\n",
       "      <td>(33.37676027290, -86.8051937568)</td>\n",
       "    </tr>\n",
       "  </tbody>\n",
       "</table>\n",
       "<p>2 rows × 117 columns</p>\n",
       "</div>"
      ],
      "text/plain": [
       "  StateAbbr   PlaceName  PlaceFIPS  Population2010  ACCESS2_CrudePrev  \\\n",
       "0        AL  Birmingham     107000          212237               22.6   \n",
       "1        AL      Hoover     135896           81619               10.6   \n",
       "\n",
       "  ACCESS2_Crude95CI  ACCESS2_AdjPrev ACCESS2_Adj95CI  ARTHRITIS_CrudePrev  \\\n",
       "0      (22.1, 23.0)             21.4    (21.0, 21.8)                 32.6   \n",
       "1      (10.2, 11.1)             10.2    ( 9.7, 10.7)                 26.3   \n",
       "\n",
       "  ARTHRITIS_Crude95CI  ...  SLEEP_Adj95CI STROKE_CrudePrev  STROKE_Crude95CI  \\\n",
       "0        (32.5, 32.8)  ...   (46.6, 47.0)              5.0      ( 5.0,  5.1)   \n",
       "1        (26.0, 26.6)  ...   (34.2, 35.0)              2.3      ( 2.2,  2.3)   \n",
       "\n",
       "  STROKE_AdjPrev  STROKE_Adj95CI TEETHLOST_CrudePrev  TEETHLOST_Crude95CI  \\\n",
       "0            5.0    ( 5.0,  5.1)                26.1         (25.1, 27.2)   \n",
       "1            2.2    ( 2.1,  2.3)                 9.6         ( 8.6, 10.8)   \n",
       "\n",
       "  TEETHLOST_AdjPrev  TEETHLOST_Adj95CI                       Geolocation  \n",
       "0              25.9       (25.0, 26.9)  (33.52756637730, -86.7988174678)  \n",
       "1               9.5       ( 8.5, 10.9)  (33.37676027290, -86.8051937568)  \n",
       "\n",
       "[2 rows x 117 columns]"
      ]
     },
     "execution_count": 3,
     "metadata": {},
     "output_type": "execute_result"
    }
   ],
   "source": [
    "cdc_og.head(2)"
   ]
  },
  {
   "cell_type": "markdown",
   "metadata": {},
   "source": [
    "I replace the geolocation column with two separate columns for latitude and longitude:"
   ]
  },
  {
   "cell_type": "code",
   "execution_count": 4,
   "metadata": {},
   "outputs": [],
   "source": [
    "lat_lon = cdc['Geolocation'].str.split(', ', expand= True)\n",
    "lat_lon[0] = lat_lon[0].str.replace('(', '')\n",
    "lat_lon[1] = lat_lon[1].str.replace(')', '')\n",
    "lat_lon = lat_lon.astype('double')"
   ]
  },
  {
   "cell_type": "code",
   "execution_count": 5,
   "metadata": {},
   "outputs": [],
   "source": [
    "cdc['Lat'] = lat_lon[0]\n",
    "cdc['Lon'] = lat_lon[1]\n",
    "\n",
    "cdc_og['Lat'] = lat_lon[0]\n",
    "cdc_og['Lon'] = lat_lon[1]\n",
    "\n",
    "cdc = cdc.drop(columns=['Geolocation', 'StateAbbr', 'PlaceName', 'PlaceFIPS', 'Population2010'])"
   ]
  },
  {
   "cell_type": "markdown",
   "metadata": {},
   "source": [
    "I will also create separate columns for the lower and upper bounds of the confidence intervals for each variable"
   ]
  },
  {
   "cell_type": "code",
   "execution_count": 6,
   "metadata": {},
   "outputs": [],
   "source": [
    "age_cols = list(cdc.filter(like='AdjPrev'))\n",
    "ci_cols = list(cdc.filter(like='95CI'))"
   ]
  },
  {
   "cell_type": "code",
   "execution_count": 7,
   "metadata": {},
   "outputs": [],
   "source": [
    "for col in ci_cols:\n",
    "    ci = cdc[col].str.split(', ', expand= True)\n",
    "    ci[0] = ci[0].str.replace('(', '')\n",
    "    ci[1] = ci[1].str.replace(')', '')\n",
    "    \n",
    "    cdc[f'{col} min'] = ci[0].astype(float)\n",
    "    cdc[f'{col} max'] = ci[1].astype(float)\n",
    "\n",
    "cdc = cdc.drop(columns = ci_cols)"
   ]
  },
  {
   "cell_type": "markdown",
   "metadata": {},
   "source": [
    "Then, I split the data into different dataframes, one using the age-adjusted data, and the other using the crude data."
   ]
  },
  {
   "cell_type": "code",
   "execution_count": 8,
   "metadata": {},
   "outputs": [],
   "source": [
    "#Reorder the columns to group outcomes, prevention, and habits\n",
    "cdc_age = cdc[['ARTHRITIS_AdjPrev',\n",
    " 'BPHIGH_AdjPrev',\n",
    " 'CANCER_AdjPrev',\n",
    " 'CASTHMA_AdjPrev',\n",
    " 'CHD_AdjPrev',\n",
    " 'COPD_AdjPrev',\n",
    " 'DIABETES_AdjPrev',\n",
    " 'HIGHCHOL_AdjPrev',\n",
    " 'KIDNEY_AdjPrev',\n",
    " 'MHLTH_AdjPrev',\n",
    " 'PHLTH_AdjPrev',\n",
    " 'STROKE_AdjPrev',\n",
    " 'TEETHLOST_AdjPrev',\n",
    "'ACCESS2_AdjPrev',\n",
    " 'BPMED_AdjPrev',\n",
    " 'CHECKUP_AdjPrev',\n",
    " 'CHOLSCREEN_AdjPrev',\n",
    " 'COLON_SCREEN_AdjPrev',\n",
    " 'COREM_AdjPrev',\n",
    " 'COREW_AdjPrev',\n",
    " 'DENTAL_AdjPrev',\n",
    " 'MAMMOUSE_AdjPrev',\n",
    "'PAPTEST_AdjPrev',\n",
    "'BINGE_AdjPrev',\n",
    " 'CSMOKING_AdjPrev',\n",
    " 'LPA_AdjPrev',\n",
    " 'OBESITY_AdjPrev',\n",
    " 'SLEEP_AdjPrev']]"
   ]
  },
  {
   "cell_type": "markdown",
   "metadata": {},
   "source": [
    "Scale the data:"
   ]
  },
  {
   "cell_type": "code",
   "execution_count": 10,
   "metadata": {},
   "outputs": [],
   "source": [
    "scaler = StandardScaler()\n",
    "cdc_scaled = scaler.fit_transform(cdc)\n",
    "cdc_age_scaled = pd.DataFrame(scaler.fit_transform(cdc_age), index = cdc_age.index, columns = cdc_age.columns)\n",
    "cdc_crude_scaled = pd.DataFrame(scaler.fit_transform(cdc_crude), index = cdc_crude.index, columns = cdc_crude.columns)"
   ]
  },
  {
   "cell_type": "markdown",
   "metadata": {},
   "source": [
    "Find the best number of clusters to use via the elbow method:"
   ]
  },
  {
   "cell_type": "code",
   "execution_count": 35,
   "metadata": {
    "scrolled": true
   },
   "outputs": [
    {
     "data": {
      "text/plain": [
       "[<matplotlib.lines.Line2D at 0x2cc4014bd08>]"
      ]
     },
     "execution_count": 35,
     "metadata": {},
     "output_type": "execute_result"
    },
    {
     "data": {
      "image/png": "[encoded data removed]",
      "text/plain": [
       "<Figure size 432x288 with 1 Axes>"
      ]
     },
     "metadata": {
      "needs_background": "light"
     },
     "output_type": "display_data"
    }
   ],
   "source": [
    "ks = range(1,10)\n",
    "inertias = []\n",
    "for k in range(1, 10):\n",
    "    kmeans = KMeans(n_clusters = k)\n",
    "    kmeans.fit(cdc_age_scaled)\n",
    "    inertias.append(kmeans.inertia_)\n",
    "\n",
    "plt.plot(ks, inertias)"
   ]
  },
  {
   "cell_type": "markdown",
   "metadata": {},
   "source": [
    "4 or 5 clusters seems to be a good place to start. I tried both k = 4 and k = 5, and I think k = 4 makes the most sense. Five clusters makes one group almost a subset of the other."
   ]
  },
  {
   "cell_type": "code",
   "execution_count": 53,
   "metadata": {},
   "outputs": [
    {
     "data": {
      "text/plain": [
       "KMeans(algorithm='auto', copy_x=True, init='k-means++', max_iter=300,\n",
       "       n_clusters=4, n_init=10, n_jobs=None, precompute_distances='auto',\n",
       "       random_state=None, tol=0.0001, verbose=0)"
      ]
     },
     "execution_count": 53,
     "metadata": {},
     "output_type": "execute_result"
    }
   ],
   "source": [
    "k =4 \n",
    "kmeans_age = KMeans(n_clusters = k)\n",
    "kmeans_age.fit(cdc_age_scaled)"
   ]
  },
  {
   "cell_type": "markdown",
   "metadata": {},
   "source": [
    "I use principal component analysis to reduce the dimensions to 2 for visualization purposes"
   ]
  },
  {
   "cell_type": "code",
   "execution_count": 89,
   "metadata": {},
   "outputs": [
    {
     "data": {
      "image/png": "[encoded data removed]",
      "text/plain": [
       "<Figure size 432x288 with 1 Axes>"
      ]
     },
     "metadata": {
      "needs_background": "light"
     },
     "output_type": "display_data"
    }
   ],
   "source": [
    "pca = PCA(n_components=2)\n",
    "components = pca.fit_transform(cdc_age_scaled)\n",
    "pca_df = pd.DataFrame(components, columns=['comp_1', 'comp_2'])\n",
    "pca_df['Group'] = kmeans_age.labels_\n",
    "sns.scatterplot(data = pca_df, x ='comp_1', y ='comp_2', hue = 'Group', palette =['#636dfa', '#ef563b','#00cc96','#ac63fa'])\n",
    "plt.xlabel('PCA Component 1')\n",
    "plt.ylabel('PCA Component 2')\n",
    "plt.show()"
   ]
  },
  {
   "cell_type": "markdown",
   "metadata": {},
   "source": [
    "Add labels to the original data frame:"
   ]
  },
  {
   "cell_type": "code",
   "execution_count": 38,
   "metadata": {},
   "outputs": [
    {
     "name": "stderr",
     "output_type": "stream",
     "text": [
      "C:\\Users\\rhais\\anaconda3\\lib\\site-packages\\ipykernel_launcher.py:1: SettingWithCopyWarning:\n",
      "\n",
      "\n",
      "A value is trying to be set on a copy of a slice from a DataFrame.\n",
      "Try using .loc[row_indexer,col_indexer] = value instead\n",
      "\n",
      "See the caveats in the documentation: https://pandas.pydata.org/pandas-docs/stable/user_guide/indexing.html#returning-a-view-versus-a-copy\n",
      "\n"
     ]
    }
   ],
   "source": [
    "cdc_age['label'] = kmeans_age.labels_\n",
    "cdc_age_scaled['label'] = kmeans_age.labels_\n",
    "cdc['group'] = kmeans_age.labels_\n",
    "cdc_og['group'] = kmeans_age.labels_.astype(str)"
   ]
  },
  {
   "cell_type": "code",
   "execution_count": 88,
   "metadata": {},
   "outputs": [
    {
     "data": {
      "image/png": "[encoded data removed]",
      "text/plain": [
       "<Figure size 432x288 with 1 Axes>"
      ]
     },
     "metadata": {
      "needs_background": "light"
     },
     "output_type": "display_data"
    }
   ],
   "source": [
    "sns.countplot(x = 'group', data = cdc_og, palette = ['#636dfa', '#ef563b','#00cc96','#ac63fa'])\n",
    "plt.xlabel('Group')\n",
    "plt.ylabel('Count')\n",
    "plt.title('Count By Group')\n",
    "plt.show()"
   ]
  },
  {
   "cell_type": "code",
   "execution_count": 65,
   "metadata": {},
   "outputs": [],
   "source": [
    "cdc_age_scaled_renamed = cdc_age_scaled.rename(columns = {'ARTHRITIS_AdjPrev': 'Arthritis', \n",
    "                                                          'BPHIGH_AdjPrev': 'HighBP',\n",
    "                                                         'CANCER_AdjPrev': 'Cancer',\n",
    "                                                           'CASTHMA_AdjPrev' : 'Asthma',\n",
    "                                                          'CHD_AdjPrev': 'Heart Disease', \n",
    "                                                          'COPD_AdjPrev': 'COPD', \n",
    "                                                          'DIABETES_AdjPrev': 'Diabetes',\n",
    "                                                           'HIGHCHOL_AdjPrev': 'High Cholesterol', \n",
    "                                                          'KIDNEY_AdjPrev': 'Kidney Disease',\n",
    "                                                          'MHLTH_AdjPrev': 'Mental Health', \n",
    "                                                          'PHLTH_AdjPrev' : 'Physical Health',\n",
    "                                                           'STROKE_AdjPrev': 'Stroke',\n",
    "                                                          'TEETHLOST_AdjPrev': 'Teeth Lost', \n",
    "                                                          'ACCESS2_AdjPrev': 'Insurance',\n",
    "                                                           'BPMED_AdjPrev': 'BP Medication',\n",
    "                                                          'CHECKUP_AdjPrev': 'Checkup', \n",
    "                                                          'CHOLSCREEN_AdjPrev': 'Cholesterol Screen',\n",
    "                                                           'COLON_SCREEN_AdjPrev': 'Colon Screen',\n",
    "                                                          'COREM_AdjPrev': 'Core Services M',\n",
    "                                                          'COREW_AdjPrev': 'Core Services F',\n",
    "                                                           'DENTAL_AdjPrev': 'Dental',\n",
    "                                                          'MAMMOUSE_AdjPrev': 'Mammogram', \n",
    "                                                          'PAPTEST_AdjPrev': 'Pap Test',\n",
    "                                                          'BINGE_AdjPrev': 'Binge Drinking',\n",
    "                                                          'CSMOKING_AdjPrev': 'Smoking', \n",
    "                                                          'LPA_AdjPrev': 'Lack of Activity',\n",
    "                                                          'OBESITY_AdjPrev': 'Obesity',\n",
    "                                                           'SLEEP_AdjPrev': 'Lack of Sleep'})"
   ]
  },
  {
   "cell_type": "code",
   "execution_count": 68,
   "metadata": {
    "scrolled": false
   },
   "outputs": [
    {
     "data": {
      "text/plain": [
       "Text(204.0, 0.5, 'Group')"
      ]
     },
     "execution_count": 68,
     "metadata": {},
     "output_type": "execute_result"
    },
    {
     "data": {
      "image/png": "[encoded data removed]",
      "text/plain": [
       "<Figure size 1800x1080 with 2 Axes>"
      ]
     },
     "metadata": {
      "needs_background": "light"
     },
     "output_type": "display_data"
    }
   ],
   "source": [
    "\n",
    "fig, ax = plt.subplots(1,1, figsize=(25,15)) \n",
    "\n",
    "sns.heatmap(cdc_age_scaled_renamed.groupby('label').mean(), ax=ax, vmin=-1, vmax=1, annot = True)\n",
    "plt.ylabel('Group')\n"
   ]
  },
  {
   "cell_type": "markdown",
   "metadata": {},
   "source": [
    "# Find confidence intervals "
   ]
  },
  {
   "cell_type": "code",
   "execution_count": 16,
   "metadata": {},
   "outputs": [],
   "source": [
    "# Split original dataframe by group\n",
    "cdc_0 = cdc[cdc['group'] == 0]\n",
    "cdc_1 = cdc[cdc['group'] == 1]\n",
    "cdc_2 = cdc[cdc['group'] == 2]\n",
    "cdc_3 = cdc[cdc['group'] == 3]"
   ]
  },
  {
   "cell_type": "code",
   "execution_count": 17,
   "metadata": {},
   "outputs": [],
   "source": [
    "#split lower bound and upper bound\n",
    "\n",
    "min_ci_cols = cdc.filter(like = 'Adj95CI min')\n",
    "max_ci_cols = cdc.filter(like = 'Adj95CI max')"
   ]
  },
  {
   "cell_type": "code",
   "execution_count": 18,
   "metadata": {},
   "outputs": [],
   "source": [
    "# create lists of lower bounds\n",
    "mins_0 = []\n",
    "mins_1 = []\n",
    "mins_2 = []\n",
    "mins_3 = []\n",
    "for col in min_ci_cols:\n",
    "    mins_0.append(cdc_0[col].min())\n",
    "    mins_1.append(cdc_1[col].min())\n",
    "    mins_2.append(cdc_2[col].min())\n",
    "    mins_3.append(cdc_3[col].min())"
   ]
  },
  {
   "cell_type": "code",
   "execution_count": 19,
   "metadata": {},
   "outputs": [],
   "source": [
    "# create lists of upper bounds\n",
    "maxs_0 = []\n",
    "maxs_1 = []\n",
    "maxs_2 = []\n",
    "maxs_3 = []\n",
    "for col in min_ci_cols:\n",
    "    maxs_0.append(cdc_0[col].max())\n",
    "    maxs_1.append(cdc_1[col].max())\n",
    "    maxs_2.append(cdc_2[col].max())\n",
    "    maxs_3.append(cdc_3[col].max())"
   ]
  },
  {
   "cell_type": "code",
   "execution_count": 20,
   "metadata": {},
   "outputs": [],
   "source": [
    "# make four dataframes with the lower and upper bounds of the CI\n",
    "ci_df_0 = pd.DataFrame({'column_id': age_cols, 'lower_bound':mins_0, 'upper_bound':maxs_0})\n",
    "ci_df_1 = pd.DataFrame({'column_id': age_cols, 'lower_bound':mins_1, 'upper_bound':maxs_1})\n",
    "ci_df_2 = pd.DataFrame({'column_id': age_cols, 'lower_bound':mins_2, 'upper_bound':maxs_2})\n",
    "ci_df_3 = pd.DataFrame({'column_id': age_cols, 'lower_bound':mins_3, 'upper_bound':maxs_3})"
   ]
  },
  {
   "cell_type": "markdown",
   "metadata": {},
   "source": [
    "# Is there a statistical difference in the BINGE column?"
   ]
  },
  {
   "cell_type": "code",
   "execution_count": 21,
   "metadata": {},
   "outputs": [
    {
     "name": "stdout",
     "output_type": "stream",
     "text": [
      "column_id      BINGE_AdjPrev\n",
      "lower_bound             10.7\n",
      "upper_bound             23.9\n",
      "Name: 2, dtype: object\n",
      "column_id      BINGE_AdjPrev\n",
      "lower_bound              7.6\n",
      "upper_bound             25.2\n",
      "Name: 2, dtype: object\n",
      "column_id      BINGE_AdjPrev\n",
      "lower_bound                7\n",
      "upper_bound               20\n",
      "Name: 2, dtype: object\n",
      "column_id      BINGE_AdjPrev\n",
      "lower_bound              9.6\n",
      "upper_bound             17.5\n",
      "Name: 2, dtype: object\n"
     ]
    }
   ],
   "source": [
    "print(ci_df_0.loc[2])\n",
    "print(ci_df_1.loc[2])\n",
    "print(ci_df_2.loc[2])\n",
    "print(ci_df_3.loc[2])"
   ]
  },
  {
   "cell_type": "markdown",
   "metadata": {},
   "source": [
    "According to the confidence intervals, there is no statistical difference in the binge drinking column"
   ]
  },
  {
   "cell_type": "code",
   "execution_count": 78,
   "metadata": {},
   "outputs": [],
   "source": [
    "cdc_og = cdc_og.sort_values(by = 'group')"
   ]
  },
  {
   "cell_type": "markdown",
   "metadata": {},
   "source": [
    "# Plotting groups on a map"
   ]
  },
  {
   "cell_type": "code",
   "execution_count": 79,
   "metadata": {
    "scrolled": true
   },
   "outputs": [
    {
     "data": {
      "application/vnd.plotly.v1+json": {
       "config": {
        "plotlyServerURL": "https://plot.ly"
       },
       "data": [
        {
         "customdata": [
          [
           "Cape Coral",
           "FL"
          ],
          [
           "Orlando",
           "FL"
          ],
          [
           "Palm Bay",
           "FL"
          ],
          [
           "Palm Coast",
           "FL"
          ],
          [
           "Pompano Beach",
           "FL"
          ],
          [
           "Port St. Lucie",
           "FL"
          ],
          [
           "St. Petersburg",
           "FL"
          ],
          [
           "Sunrise",
           "FL"
          ],
          [
           "Tallahassee",
           "FL"
          ],
          [
           "Tampa",
           "FL"
          ],
          [
           "West Palm Beach",
           "FL"
          ],
          [
           "Pittsburgh",
           "PA"
          ],
          [
           "Athens",
           "GA"
          ],
          [
           "Atlanta",
           "GA"
          ],
          [
           "Columbus",
           "GA"
          ],
          [
           "Bethlehem",
           "PA"
          ],
          [
           "Warner Robins",
           "GA"
          ],
          [
           "Decatur",
           "IL"
          ],
          [
           "Peoria",
           "IL"
          ],
          [
           "Tulsa",
           "OK"
          ],
          [
           "Springfield",
           "IL"
          ],
          [
           "Oklahoma City",
           "OK"
          ],
          [
           "Miramar",
           "FL"
          ],
          [
           "Scranton",
           "PA"
          ],
          [
           "Melbourne",
           "FL"
          ],
          [
           "Pawtucket",
           "RI"
          ],
          [
           "Nashville",
           "TN"
          ],
          [
           "Murfreesboro",
           "TN"
          ],
          [
           "Knoxville",
           "TN"
          ],
          [
           "Clarksville",
           "TN"
          ],
          [
           "Chattanooga",
           "TN"
          ],
          [
           "Rock Hill",
           "SC"
          ],
          [
           "Columbia",
           "SC"
          ],
          [
           "Bridgeport",
           "CT"
          ],
          [
           "New Britain",
           "CT"
          ],
          [
           "New Haven",
           "CT"
          ],
          [
           "Bloomington",
           "IN"
          ],
          [
           "Waterbury",
           "CT"
          ],
          [
           "Clearwater",
           "FL"
          ],
          [
           "Deerfield Beach",
           "FL"
          ],
          [
           "Deltona",
           "FL"
          ],
          [
           "Fort Lauderdale",
           "FL"
          ],
          [
           "Gainesville",
           "FL"
          ],
          [
           "Providence",
           "RI"
          ],
          [
           "Hollywood",
           "FL"
          ],
          [
           "Jacksonville",
           "FL"
          ],
          [
           "Lakeland",
           "FL"
          ],
          [
           "Largo",
           "FL"
          ],
          [
           "Boynton Beach",
           "FL"
          ],
          [
           "Evansville",
           "IN"
          ],
          [
           "Norman",
           "OK"
          ],
          [
           "Indianapolis",
           "IN"
          ],
          [
           "Warren",
           "MI"
          ],
          [
           "Westland",
           "MI"
          ],
          [
           "Wyoming",
           "MI"
          ],
          [
           "Wilmington",
           "NC"
          ],
          [
           "Independence",
           "MO"
          ],
          [
           "Kansas City",
           "MO"
          ],
          [
           "St. Joseph",
           "MO"
          ],
          [
           "Jacksonville",
           "NC"
          ],
          [
           "Springfield",
           "MO"
          ],
          [
           "High Point",
           "NC"
          ],
          [
           "Sterling Heights",
           "MI"
          ],
          [
           "Greenville",
           "NC"
          ],
          [
           "Gastonia",
           "NC"
          ],
          [
           "Manchester",
           "NH"
          ],
          [
           "Fayetteville",
           "NC"
          ],
          [
           "Durham",
           "NC"
          ],
          [
           "Concord",
           "NC"
          ],
          [
           "Charlotte",
           "NC"
          ],
          [
           "Yonkers",
           "NY"
          ],
          [
           "Schenectady",
           "NY"
          ],
          [
           "Albany",
           "NY"
          ],
          [
           "Mount Vernon",
           "NY"
          ],
          [
           "Greensboro",
           "NC"
          ],
          [
           "Arlington",
           "TX"
          ],
          [
           "Southfield",
           "MI"
          ],
          [
           "Kalamazoo",
           "MI"
          ],
          [
           "Lafayette",
           "IN"
          ],
          [
           "Des Moines",
           "IA"
          ],
          [
           "Sioux City",
           "IA"
          ],
          [
           "Waterloo",
           "IA"
          ],
          [
           "Topeka",
           "KS"
          ],
          [
           "Wichita",
           "KS"
          ],
          [
           "Lexington",
           "KY"
          ],
          [
           "Louisville",
           "KY"
          ],
          [
           "Baton Rouge",
           "LA"
          ],
          [
           "Kenner",
           "LA"
          ],
          [
           "Lansing",
           "MI"
          ],
          [
           "Lafayette",
           "LA"
          ],
          [
           "New Orleans",
           "LA"
          ],
          [
           "Baltimore",
           "MD"
          ],
          [
           "Boston",
           "MA"
          ],
          [
           "Columbus",
           "OH"
          ],
          [
           "Lowell",
           "MA"
          ],
          [
           "Lynn",
           "MA"
          ],
          [
           "Worcester",
           "MA"
          ],
          [
           "Dearborn",
           "MI"
          ],
          [
           "Winston-Salem",
           "NC"
          ],
          [
           "Grand Rapids",
           "MI"
          ],
          [
           "Parma",
           "OH"
          ],
          [
           "Denton",
           "TX"
          ],
          [
           "New York",
           "NY"
          ],
          [
           "Charleston",
           "WV"
          ],
          [
           "Fayetteville",
           "AR"
          ],
          [
           "Tacoma",
           "WA"
          ],
          [
           "Jonesboro",
           "AR"
          ],
          [
           "Little Rock",
           "AR"
          ],
          [
           "Suffolk",
           "VA"
          ],
          [
           "Roanoke",
           "VA"
          ],
          [
           "Spokane",
           "WA"
          ],
          [
           "Richmond",
           "VA"
          ],
          [
           "Portsmouth",
           "VA"
          ],
          [
           "Chesapeake",
           "VA"
          ],
          [
           "Mesa",
           "AZ"
          ],
          [
           "Green Bay",
           "WI"
          ],
          [
           "Norfolk",
           "VA"
          ],
          [
           "Hampton",
           "VA"
          ],
          [
           "Wichita Falls",
           "TX"
          ],
          [
           "Kenosha",
           "WI"
          ],
          [
           "Huntsville",
           "AL"
          ],
          [
           "Newport News",
           "VA"
          ],
          [
           "Lynchburg",
           "VA"
          ],
          [
           "Milwaukee",
           "WI"
          ],
          [
           "Everett",
           "WA"
          ],
          [
           "Kennewick",
           "WA"
          ],
          [
           "Racine",
           "WI"
          ]
         ],
         "geo": "geo",
         "hovertemplate": "group=0<br>Lat=%{lat}<br>Lon=%{lon}<br>PlaceName=%{customdata[0]}<br>StateAbbr=%{customdata[1]}<extra></extra>",
         "lat": [
          26.6448544993,
          28.4800646771,
          27.9838255249,
          29.5405590976,
          26.2428335699,
          27.2808680308,
          27.792894971,
          26.1546878303,
          30.4548951211,
          27.996198041,
          26.7478714655,
          40.4396297486,
          33.9508170683,
          33.7626524683,
          32.5099614852,
          40.6266402578,
          32.5985113609,
          39.8555822645,
          40.7515684146,
          36.1284213425,
          39.7716473322,
          35.467564288,
          25.9773288233,
          41.4043729362,
          28.1158805782,
          41.8744534517,
          36.1712229904,
          35.850778195,
          35.9690594531,
          36.569683159,
          35.0662472165,
          34.9403611496,
          34.0366069566,
          41.1928054233,
          41.675922654,
          41.3113869392,
          39.1637458221,
          41.5582443266,
          27.9805997919,
          26.3049966413,
          28.905060048,
          26.1418205174,
          29.6817027431,
          41.823480533,
          26.0287025703,
          30.3319820139,
          28.0558482664,
          27.9090907734,
          26.5279818052,
          37.9867158026,
          35.2335032647,
          39.7771221075,
          42.4934233034,
          42.3192220455,
          42.8909745661,
          34.2102758569,
          39.0870794771,
          39.1239413971,
          39.7598312179,
          34.7331103037,
          37.1942661484,
          35.9881243803,
          42.580985283,
          35.5959211876,
          35.2472984431,
          42.9844541713,
          35.0851309527,
          35.9809147402,
          35.3939316958,
          35.2078721969,
          40.9465025597,
          42.8025204414,
          42.6663969604,
          40.9136008569,
          36.0960480415,
          32.699836862,
          42.4765016267,
          42.2748756474,
          40.3994285285,
          41.5741349525,
          42.4963149039,
          42.4919736932,
          39.0359549911,
          37.690561478,
          38.0423254022,
          38.1777689918,
          30.4510891679,
          30.0106937201,
          42.7090711751,
          30.2120582815,
          30.0687009935,
          39.3084523991,
          42.3155796777,
          39.9859500484,
          42.6388727331,
          42.4783322881,
          42.2705425446,
          42.3126884626,
          36.1029453039,
          42.9614815414,
          41.3842399838,
          33.2156160443,
          40.694960689,
          38.3484079736,
          36.0712117312,
          47.2425411445,
          35.8208121538,
          34.7253957894,
          36.6930367981,
          37.2782181855,
          47.6736243259,
          37.5293933083,
          36.8451450228,
          36.6777521118,
          33.4022837359,
          44.5149847816,
          36.8932863006,
          37.0533009025,
          33.9072739838,
          42.585570271,
          34.6989692671,
          37.1051141309,
          37.4004163016,
          43.0641258925,
          47.9497966189,
          46.198438428,
          42.7274599494
         ],
         "legendgroup": "0",
         "lon": [
          -81.9931108298,
          -81.3452411179,
          -80.6666722846,
          -81.2508206143,
          -80.131245161,
          -80.3832154574,
          -82.6650743239,
          -80.299841102,
          -84.2526459938,
          -82.4450349799,
          -80.1337397544,
          -79.9762614995,
          -83.3689417445,
          -84.4231419055,
          -84.8770410586,
          -75.3679048175,
          -83.6530271267,
          -88.9336983421,
          -89.615255458,
          -95.9036195464,
          -89.6540780049,
          -97.5137615524,
          -80.3357316003,
          -75.6649126898,
          -80.6508814613,
          -71.3743580803,
          -86.7845944773,
          -86.408628238,
          -83.9495877264,
          -87.3432371614,
          -85.2466771892,
          -81.0249178286,
          -80.9037852694,
          -73.196054694,
          -72.7861630705,
          -72.9247595793,
          -86.5257124351,
          -73.036129832,
          -82.7544099135,
          -80.1277706584,
          -81.2134269839,
          -80.1471225502,
          -82.345278266,
          -71.4218129335,
          -80.1683976059,
          -81.6752266207,
          -81.9539536462,
          -82.7714203383,
          -80.0814660417,
          -87.538270731,
          -97.3470413838,
          -86.145782152,
          -83.0270075248,
          -83.3805461719,
          -85.7067229249,
          -77.8872842368,
          -94.3502748237,
          -94.5541236795,
          -94.8209246813,
          -77.3951822819,
          -93.2914273656,
          -79.9932956384,
          -83.0303680858,
          -77.3766133673,
          -81.1836588468,
          -71.4445313287,
          -78.9791676456,
          -78.9059161097,
          -80.6352429349,
          -80.8300754645,
          -73.8636959965,
          -73.9275333869,
          -73.7986826267,
          -73.8291001676,
          -79.8276833061,
          -97.125089612,
          -83.2605284738,
          -85.588188576,
          -86.8617007404,
          -93.6165066086,
          -96.3913834837,
          -92.3521759342,
          -95.6954155341,
          -97.3429366807,
          -84.4587259608,
          -85.6664099974,
          -91.1263551997,
          -90.2550320135,
          -84.5584470022,
          -92.0317532321,
          -89.9316317895,
          -76.6160492311,
          -71.0916505804,
          -82.9851738516,
          -71.321714396,
          -70.9662372538,
          -71.8079404584,
          -83.2129368006,
          -80.2609889241,
          -85.6556858473,
          -81.728599153,
          -97.1412438684,
          -73.9313850409,
          -81.632165003,
          -94.1659600436,
          -122.45447391,
          -90.6794991686,
          -92.3583751863,
          -76.6414278469,
          -79.9581615989,
          -117.415973291,
          -77.475568168,
          -76.3552763467,
          -76.3024325925,
          -111.718721181,
          -87.9896195955,
          -76.2567157761,
          -76.3665945624,
          -98.5292981697,
          -87.8735745085,
          -86.6387042882,
          -76.5182644502,
          -79.1911081,
          -87.9672412429,
          -122.160703911,
          -119.173245847,
          -87.813453024
         ],
         "marker": {
          "color": "#636efa"
         },
         "name": "0",
         "showlegend": true,
         "type": "scattergeo"
        },
        {
         "customdata": [
          [
           "Olathe",
           "KS"
          ],
          [
           "Burbank",
           "CA"
          ],
          [
           "Carlsbad",
           "CA"
          ],
          [
           "Overland Park",
           "KS"
          ],
          [
           "Concord",
           "CA"
          ],
          [
           "Chino",
           "CA"
          ],
          [
           "Clovis",
           "CA"
          ],
          [
           "Portland",
           "ME"
          ],
          [
           "Chula Vista",
           "CA"
          ],
          [
           "Bellevue",
           "WA"
          ],
          [
           "Lawrence",
           "KS"
          ],
          [
           "Chico",
           "CA"
          ],
          [
           "Chino Hills",
           "CA"
          ],
          [
           "Auburn",
           "WA"
          ],
          [
           "Citrus Heights",
           "CA"
          ],
          [
           "Redondo Beach",
           "CA"
          ],
          [
           "Costa Mesa",
           "CA"
          ],
          [
           "Redwood City",
           "CA"
          ],
          [
           "Eugene",
           "OR"
          ],
          [
           "Bend",
           "OR"
          ],
          [
           "Evanston",
           "IL"
          ],
          [
           "Beaverton",
           "OR"
          ],
          [
           "Naperville",
           "IL"
          ],
          [
           "Palatine",
           "IL"
          ],
          [
           "Fremont",
           "CA"
          ],
          [
           "Schaumburg",
           "IL"
          ],
          [
           "Folsom",
           "CA"
          ],
          [
           "Carmel",
           "IN"
          ],
          [
           "Fishers",
           "IN"
          ],
          [
           "Elk Grove",
           "CA"
          ],
          [
           "Edmond",
           "OK"
          ],
          [
           "Virginia Beach",
           "VA"
          ],
          [
           "Buena Park",
           "CA"
          ],
          [
           "Broken Arrow",
           "OK"
          ],
          [
           "Cedar Rapids",
           "IA"
          ],
          [
           "Davenport",
           "IA"
          ],
          [
           "Daly City",
           "CA"
          ],
          [
           "Waukesha",
           "WI"
          ],
          [
           "Corona",
           "CA"
          ],
          [
           "Cambridge",
           "MA"
          ],
          [
           "Federal Way",
           "WA"
          ],
          [
           "Bellingham",
           "WA"
          ],
          [
           "Tempe",
           "AZ"
          ],
          [
           "Surprise",
           "AZ"
          ],
          [
           "Scottsdale",
           "AZ"
          ],
          [
           "Billings",
           "MT"
          ],
          [
           "Missoula",
           "MT"
          ],
          [
           "Lincoln",
           "NE"
          ],
          [
           "Omaha",
           "NE"
          ],
          [
           "Henderson",
           "NV"
          ],
          [
           "Appleton",
           "WI"
          ],
          [
           "Peoria",
           "AZ"
          ],
          [
           "O'Fallon",
           "MO"
          ],
          [
           "Gilbert",
           "AZ"
          ],
          [
           "Chandler",
           "AZ"
          ],
          [
           "Clifton",
           "NJ"
          ],
          [
           "Anchorage",
           "AK"
          ],
          [
           "Madison",
           "WI"
          ],
          [
           "Cary",
           "NC"
          ],
          [
           "Asheville",
           "NC"
          ],
          [
           "Albuquerque",
           "NM"
          ],
          [
           "Rio Rancho",
           "NM"
          ],
          [
           "Santa Fe",
           "NM"
          ],
          [
           "Hoover",
           "AL"
          ],
          [
           "Nashua",
           "NH"
          ],
          [
           "Berkeley",
           "CA"
          ],
          [
           "Lee's Summit",
           "MO"
          ],
          [
           "Columbia",
           "MO"
          ],
          [
           "Newton",
           "MA"
          ],
          [
           "Quincy",
           "MA"
          ],
          [
           "Somerville",
           "MA"
          ],
          [
           "Ann Arbor",
           "MI"
          ],
          [
           "Champaign",
           "IL"
          ],
          [
           "Fargo",
           "ND"
          ],
          [
           "Farmington Hills",
           "MI"
          ],
          [
           "Renton",
           "WA"
          ],
          [
           "Seattle",
           "WA"
          ],
          [
           "Livonia",
           "MI"
          ],
          [
           "Vancouver",
           "WA"
          ],
          [
           "Rochester Hills",
           "MI"
          ],
          [
           "Spokane Valley",
           "WA"
          ],
          [
           "Troy",
           "MI"
          ],
          [
           "Bloomington",
           "MN"
          ],
          [
           "Brooklyn Park",
           "MN"
          ],
          [
           "Duluth",
           "MN"
          ],
          [
           "Minneapolis",
           "MN"
          ],
          [
           "Plymouth",
           "MN"
          ],
          [
           "Rochester",
           "MN"
          ],
          [
           "St. Paul",
           "MN"
          ],
          [
           "Raleigh",
           "NC"
          ],
          [
           "Alameda",
           "CA"
          ],
          [
           "Bolingbrook",
           "IL"
          ],
          [
           "Hillsboro",
           "OR"
          ],
          [
           "Portland",
           "OR"
          ],
          [
           "Union City",
           "CA"
          ],
          [
           "Upland",
           "CA"
          ],
          [
           "Vacaville",
           "CA"
          ],
          [
           "Lewisville",
           "TX"
          ],
          [
           "Sioux Falls",
           "SD"
          ],
          [
           "Rapid City",
           "SD"
          ],
          [
           "Pasadena",
           "CA"
          ],
          [
           "West Covina",
           "CA"
          ],
          [
           "Whittier",
           "CA"
          ],
          [
           "Arvada",
           "CO"
          ],
          [
           "Aurora",
           "CO"
          ],
          [
           "Boulder",
           "CO"
          ],
          [
           "Centennial",
           "CO"
          ],
          [
           "Colorado Springs",
           "CO"
          ],
          [
           "Denver",
           "CO"
          ],
          [
           "Fort Collins",
           "CO"
          ],
          [
           "Mount Pleasant",
           "SC"
          ],
          [
           "Lakewood",
           "CO"
          ],
          [
           "Longmont",
           "CO"
          ],
          [
           "Loveland",
           "CO"
          ],
          [
           "McKinney",
           "TX"
          ],
          [
           "Thornton",
           "CO"
          ],
          [
           "Westminster",
           "CO"
          ],
          [
           "Midland",
           "TX"
          ],
          [
           "Danbury",
           "CT"
          ],
          [
           "Tustin",
           "CA"
          ],
          [
           "Pleasanton",
           "CA"
          ],
          [
           "Tracy",
           "CA"
          ],
          [
           "Torrance",
           "CA"
          ],
          [
           "College Station",
           "TX"
          ],
          [
           "Carrollton",
           "TX"
          ],
          [
           "Roseville",
           "CA"
          ],
          [
           "Austin",
           "TX"
          ],
          [
           "Redlands",
           "CA"
          ],
          [
           "Allen",
           "TX"
          ],
          [
           "San Buenaventura (Ventura)",
           "CA"
          ],
          [
           "San Diego",
           "CA"
          ],
          [
           "San Francisco",
           "CA"
          ],
          [
           "San Jose",
           "CA"
          ],
          [
           "San Leandro",
           "CA"
          ],
          [
           "San Marcos",
           "CA"
          ],
          [
           "Bloomington",
           "IL"
          ],
          [
           "San Mateo",
           "CA"
          ],
          [
           "Frisco",
           "TX"
          ],
          [
           "Santa Barbara",
           "CA"
          ],
          [
           "Santa Clara",
           "CA"
          ],
          [
           "Santa Clarita",
           "CA"
          ],
          [
           "Rancho Cucamonga",
           "CA"
          ],
          [
           "Santa Monica",
           "CA"
          ],
          [
           "Santa Rosa",
           "CA"
          ],
          [
           "Simi Valley",
           "CA"
          ],
          [
           "League City",
           "TX"
          ],
          [
           "Sunnyvale",
           "CA"
          ],
          [
           "Temecula",
           "CA"
          ],
          [
           "Thousand Oaks",
           "CA"
          ],
          [
           "San Ramon",
           "CA"
          ],
          [
           "Orange",
           "CA"
          ],
          [
           "Charleston",
           "SC"
          ],
          [
           "Orem",
           "UT"
          ],
          [
           "Missouri City",
           "TX"
          ],
          [
           "St. George",
           "UT"
          ],
          [
           "Livermore",
           "CA"
          ],
          [
           "Salt Lake City",
           "UT"
          ],
          [
           "Pembroke Pines",
           "FL"
          ],
          [
           "Plantation",
           "FL"
          ],
          [
           "Lakewood",
           "CA"
          ],
          [
           "Lake Forest",
           "CA"
          ],
          [
           "Irvine",
           "CA"
          ],
          [
           "Sandy",
           "UT"
          ],
          [
           "West Jordan",
           "UT"
          ],
          [
           "Huntington Beach",
           "CA"
          ],
          [
           "Burlington",
           "VT"
          ],
          [
           "Alexandria",
           "VA"
          ],
          [
           "Glendale",
           "CA"
          ],
          [
           "Johns Creek",
           "GA"
          ],
          [
           "Roswell",
           "GA"
          ],
          [
           "Sandy Springs",
           "GA"
          ],
          [
           "Fullerton",
           "CA"
          ],
          [
           "Honolulu",
           "HI"
          ],
          [
           "Boise City",
           "ID"
          ],
          [
           "Meridian",
           "ID"
          ],
          [
           "Arlington Heights",
           "IL"
          ],
          [
           "Layton",
           "UT"
          ],
          [
           "Cranston",
           "RI"
          ],
          [
           "Iowa City",
           "IA"
          ],
          [
           "Plano",
           "TX"
          ],
          [
           "Washington",
           "DC"
          ],
          [
           "Boca Raton",
           "FL"
          ],
          [
           "Warwick",
           "RI"
          ],
          [
           "Pearland",
           "TX"
          ],
          [
           "New Rochelle",
           "NY"
          ],
          [
           "Menifee",
           "CA"
          ],
          [
           "Oceanside",
           "CA"
          ],
          [
           "Coral Springs",
           "FL"
          ],
          [
           "Davie",
           "FL"
          ],
          [
           "Newport Beach",
           "CA"
          ],
          [
           "Napa",
           "CA"
          ],
          [
           "Stamford",
           "CT"
          ],
          [
           "Mountain View",
           "CA"
          ],
          [
           "Richardson",
           "TX"
          ],
          [
           "Round Rock",
           "TX"
          ],
          [
           "Mission Viejo",
           "CA"
          ],
          [
           "Norwalk",
           "CT"
          ],
          [
           "Milpitas",
           "CA"
          ],
          [
           "Sugar Land",
           "TX"
          ],
          [
           "Murrieta",
           "CA"
          ]
         ],
         "geo": "geo",
         "hovertemplate": "group=1<br>Lat=%{lat}<br>Lon=%{lon}<br>PlaceName=%{customdata[0]}<br>StateAbbr=%{customdata[1]}<extra></extra>",
         "lat": [
          38.884693021,
          34.1879799605,
          33.1248051026,
          38.8872922575,
          37.9721810307,
          33.983588126,
          36.8289400179,
          43.6779836271,
          32.6282964262,
          47.5962437606,
          38.9599302924,
          39.7568503668,
          33.950774546,
          47.3038544325,
          38.6947788342,
          33.8575280159,
          33.6667651353,
          37.5009145276,
          44.0559363346,
          44.0561827184,
          42.0463099649,
          45.4795765674,
          41.7482001145,
          42.1180663695,
          37.5278685405,
          42.0305488755,
          38.6750494328,
          39.9658404613,
          39.9587635263,
          38.4159992006,
          35.6689350516,
          36.7534593339,
          33.8572126844,
          36.0366324911,
          41.966729258,
          41.5557926876,
          37.6861552276,
          43.0093332215,
          33.8623571787,
          42.3758188051,
          47.3090846316,
          48.7535370315,
          33.3882640307,
          33.6803835177,
          33.6872493651,
          45.7893102609,
          46.8694402455,
          40.8096195695,
          41.2642309111,
          36.0122394916,
          44.2776987457,
          33.7847206422,
          38.7852244161,
          33.310149392,
          33.28318981,
          40.8631217425,
          61.149868731,
          43.0809865694,
          35.7814978722,
          35.5708251391,
          35.1055025771,
          35.287307935,
          35.6662719601,
          33.3767602729,
          42.7491554459,
          37.8725678765,
          38.9170508128,
          38.9481109651,
          42.3316567616,
          42.2492981918,
          42.3905738858,
          42.2756833567,
          40.1151051361,
          46.8652457832,
          42.4859956992,
          47.4760546752,
          47.622154338,
          42.3971592737,
          45.6357172365,
          42.6645256768,
          47.662556574,
          42.5817340358,
          44.8305852429,
          45.1112033916,
          46.7854703427,
          44.9635407967,
          45.022462874,
          44.0150574384,
          44.9477402558,
          35.8322080933,
          37.7650849031,
          41.6911653908,
          45.529027994,
          45.537180654,
          37.6028390812,
          34.1178445701,
          38.3597235063,
          33.0451992429,
          43.5388067537,
          44.0705009564,
          34.1597634806,
          34.0554415174,
          33.9678255596,
          39.8308263293,
          39.7091594781,
          40.0275510494,
          39.592872073,
          38.8672748077,
          39.7620283743,
          40.5487758924,
          32.8538274584,
          39.6976734462,
          40.1695164708,
          40.4165693758,
          33.1988886952,
          39.9193994188,
          39.8838511475,
          32.0285948356,
          41.4015898606,
          33.7308520326,
          37.6656092171,
          37.7243277375,
          33.8345985464,
          30.5867615801,
          32.988438459,
          38.7657516182,
          30.3068610342,
          34.0511315317,
          33.1087043234,
          34.2743610206,
          32.8355639418,
          37.7559136611,
          37.3003963176,
          37.7074299262,
          33.134965986,
          40.4756778366,
          37.5518226893,
          33.1507545152,
          34.4285733874,
          37.3646197504,
          34.4119039185,
          34.1245895555,
          34.0231891612,
          38.4464423102,
          34.2662462857,
          29.4872995808,
          37.3834416566,
          33.5029980884,
          34.1917745655,
          37.7623705462,
          33.8046419567,
          32.8136961892,
          40.2987127625,
          29.563674661,
          37.0787444634,
          37.6865101361,
          40.7778489465,
          26.0127387534,
          26.1259853923,
          33.8470531941,
          33.6634128948,
          33.6780108904,
          40.5702254423,
          40.6022598635,
          33.6952749077,
          44.4876245694,
          38.8187351557,
          34.181889373,
          34.0332991998,
          34.0391384583,
          33.9366669867,
          33.8840378013,
          21.4588039305,
          43.5984343897,
          43.6185195383,
          42.095623342,
          41.077181614,
          41.7658017135,
          41.6558950332,
          33.0502149278,
          38.9099241426,
          26.3749012715,
          41.7064727301,
          29.5584850577,
          40.9321713141,
          33.6909533045,
          33.2247457474,
          26.2701700158,
          26.0789340778,
          33.6150103607,
          38.2980424649,
          41.1049145013,
          37.3999252379,
          32.9716582389,
          30.5239578235,
          33.6095976891,
          41.1175631682,
          37.433869763,
          29.5974680902,
          33.5719743356
         ],
         "legendgroup": "1",
         "lon": [
          -94.8192070197,
          -118.323429032,
          -117.282903303,
          -94.6872267067,
          -122.001588036,
          -117.665296584,
          -119.68665285,
          -70.2752544531,
          -117.010042407,
          -122.153569982,
          -95.2628259088,
          -121.815983972,
          -117.725326968,
          -122.210810557,
          -121.287991502,
          -118.376567893,
          -117.91350475,
          -122.224767617,
          -123.117327584,
          -121.308690416,
          -87.6940348773,
          -122.814973469,
          -88.1657705099,
          -88.042989882,
          -121.984121512,
          -88.0838663543,
          -121.147605753,
          -86.1461278461,
          -85.969310702,
          -121.384137762,
          -97.4159205309,
          -76.0589579522,
          -118.004517591,
          -95.7809572414,
          -91.6781679349,
          -90.6051730163,
          -122.468298024,
          -88.2457679157,
          -117.564224471,
          -71.1183992378,
          -122.335755583,
          -122.468092906,
          -111.931802302,
          -112.452218439,
          -111.865085877,
          -108.54882784,
          -114.009863843,
          -96.6806742049,
          -96.0415076441,
          -115.037392161,
          -88.3897664444,
          -112.298680584,
          -90.7176856736,
          -111.746237467,
          -111.852210033,
          -74.1575145342,
          -149.111113424,
          -89.3915106344,
          -78.8152191642,
          -82.5537350816,
          -106.647447696,
          -106.697981552,
          -105.972662995,
          -86.8051937568,
          -71.4909587631,
          -122.274907975,
          -94.3814865856,
          -92.3260129764,
          -71.2084466944,
          -71.0218764062,
          -71.1017450879,
          -83.7311374448,
          -88.2729845986,
          -96.8289882328,
          -83.3771159714,
          -122.191153327,
          -122.323532482,
          -83.3733073683,
          -122.598539476,
          -83.1563037157,
          -117.234571922,
          -83.1457545154,
          -93.3150995817,
          -93.3505067942,
          -92.1342013763,
          -93.2678345304,
          -93.4616016242,
          -92.4775005494,
          -93.1039958305,
          -78.6440243809,
          -122.266489842,
          -88.1011218035,
          -122.937442209,
          -122.650032751,
          -122.018966106,
          -117.660290062,
          -121.96903046,
          -96.9829273031,
          -96.7313495858,
          -103.218361421,
          -118.138921644,
          -117.91128206,
          -118.018796341,
          -105.146327974,
          -104.726526621,
          -105.25151776,
          -104.867986891,
          -104.760664479,
          -104.876365322,
          -105.065904872,
          -79.8230343029,
          -105.116965444,
          -105.10195106,
          -105.061758435,
          -96.6677029773,
          -104.944956758,
          -105.062645316,
          -102.109700973,
          -73.470938682,
          -117.810730968,
          -121.880775002,
          -121.444621463,
          -118.341641983,
          -96.2957958614,
          -96.900137433,
          -121.302847708,
          -97.7554771245,
          -117.170935294,
          -96.6735373763,
          -119.231436551,
          -117.119792061,
          -122.440987876,
          -121.847228423,
          -122.159061655,
          -117.174363098,
          -88.9700813515,
          -122.312390346,
          -96.8201336312,
          -119.720187334,
          -121.967932117,
          -118.503504698,
          -117.56617587,
          -118.481563937,
          -122.706005935,
          -118.748980462,
          -95.1089858945,
          -122.025624324,
          -117.12239028,
          -118.874888411,
          -121.938150371,
          -117.8231855,
          -79.967381899,
          -111.699188517,
          -95.5382066661,
          -113.579352503,
          -121.764357841,
          -111.931220784,
          -80.3384522664,
          -80.2616762465,
          -118.122204765,
          -117.670683341,
          -117.773633283,
          -111.852431062,
          -112.000961848,
          -118.001810806,
          -73.2314828365,
          -77.0867762661,
          -118.24676666,
          -84.2027195506,
          -84.3512225277,
          -84.3703197084,
          -117.927850895,
          -157.973296737,
          -116.230885189,
          -116.39758487,
          -87.9825627457,
          -111.961589302,
          -71.4861485002,
          -91.5308854927,
          -96.7486409797,
          -77.0147205666,
          -80.1078208861,
          -71.4345615049,
          -95.3208389111,
          -73.7843883178,
          -117.18487699,
          -117.308200285,
          -80.2592221493,
          -80.2869750311,
          -117.867364631,
          -122.301093331,
          -73.5589363142,
          -122.079544343,
          -96.7093052991,
          -97.6669801882,
          -117.655029608,
          -73.4224513123,
          -121.892083025,
          -95.627455775,
          -117.190921143
         ],
         "marker": {
          "color": "#EF553B"
         },
         "name": "1",
         "showlegend": true,
         "type": "scattergeo"
        },
        {
         "customdata": [
          [
           "Syracuse",
           "NY"
          ],
          [
           "Canton",
           "OH"
          ],
          [
           "Allentown",
           "PA"
          ],
          [
           "Rochester",
           "NY"
          ],
          [
           "Cincinnati",
           "OH"
          ],
          [
           "Toledo",
           "OH"
          ],
          [
           "Erie",
           "PA"
          ],
          [
           "Philadelphia",
           "PA"
          ],
          [
           "Dayton",
           "OH"
          ],
          [
           "Lawton",
           "OK"
          ],
          [
           "Memphis",
           "TN"
          ],
          [
           "North Charleston",
           "SC"
          ],
          [
           "Youngstown",
           "OH"
          ],
          [
           "Reading",
           "PA"
          ],
          [
           "Cleveland",
           "OH"
          ],
          [
           "Akron",
           "OH"
          ],
          [
           "Birmingham",
           "AL"
          ],
          [
           "Miami Gardens",
           "FL"
          ],
          [
           "Albany",
           "GA"
          ],
          [
           "Lake Charles",
           "LA"
          ],
          [
           "Kansas City",
           "KS"
          ],
          [
           "South Bend",
           "IN"
          ],
          [
           "Muncie",
           "IN"
          ],
          [
           "Hammond",
           "IN"
          ],
          [
           "Gary",
           "IN"
          ],
          [
           "Fort Smith",
           "AR"
          ],
          [
           "Springdale",
           "AR"
          ],
          [
           "Hartford",
           "CT"
          ],
          [
           "Wilmington",
           "DE"
          ],
          [
           "Lauderhill",
           "FL"
          ],
          [
           "Compton",
           "CA"
          ],
          [
           "Buffalo",
           "NY"
          ],
          [
           "Savannah",
           "GA"
          ],
          [
           "Macon",
           "GA"
          ],
          [
           "Augusta",
           "GA"
          ],
          [
           "Brockton",
           "MA"
          ],
          [
           "Fall River",
           "MA"
          ],
          [
           "Shreveport",
           "LA"
          ],
          [
           "New Bedford",
           "MA"
          ],
          [
           "Montgomery",
           "AL"
          ],
          [
           "Lawrence",
           "MA"
          ],
          [
           "Newark",
           "NJ"
          ],
          [
           "Passaic",
           "NJ"
          ],
          [
           "Paterson",
           "NJ"
          ],
          [
           "Camden",
           "NJ"
          ],
          [
           "Trenton",
           "NJ"
          ],
          [
           "St. Louis",
           "MO"
          ],
          [
           "Jackson",
           "MS"
          ],
          [
           "Gulfport",
           "MS"
          ],
          [
           "Flint",
           "MI"
          ],
          [
           "Detroit",
           "MI"
          ],
          [
           "Springfield",
           "MA"
          ],
          [
           "Mobile",
           "AL"
          ],
          [
           "Tuscaloosa",
           "AL"
          ]
         ],
         "geo": "geo",
         "hovertemplate": "group=2<br>Lat=%{lat}<br>Lon=%{lon}<br>PlaceName=%{customdata[0]}<br>StateAbbr=%{customdata[1]}<extra></extra>",
         "lat": [
          43.0409202097,
          40.8080192662,
          40.596099618,
          43.1679802918,
          39.1411747124,
          41.6637399604,
          42.1164698754,
          40.0093147808,
          39.779768039,
          34.6170564899,
          35.1046295042,
          32.9100915071,
          41.0993286607,
          40.3399678686,
          41.4765345821,
          41.0801444942,
          33.5275663773,
          25.9432633871,
          31.5776036766,
          30.2030679966,
          39.1234621409,
          41.6769914549,
          40.1987098324,
          41.6171442828,
          41.5904779239,
          35.3491692636,
          36.1869932598,
          41.7660706419,
          39.7412748227,
          26.1605584187,
          33.892965693,
          42.9014518233,
          32.0283615157,
          32.8320417692,
          33.3644561527,
          42.082071372,
          41.7139907598,
          32.4671618864,
          41.6712667258,
          32.3472645333,
          42.7002772201,
          40.7260693449,
          40.8574581109,
          40.9146874977,
          39.9361910066,
          40.2237289981,
          38.6358122615,
          32.31627222,
          30.427377008,
          43.0236339386,
          42.3847015631,
          42.1154977999,
          30.6776248648,
          33.2336083951
         ],
         "legendgroup": "2",
         "lon": [
          -76.1437679213,
          -81.3676594998,
          -75.4755373968,
          -77.6162348882,
          -84.5060004524,
          -83.5823818449,
          -80.0730358517,
          -75.1333888571,
          -84.1997930517,
          -98.4203934803,
          -89.978906085,
          -80.0738525014,
          -80.6463187081,
          -75.9266128837,
          -81.6805494865,
          -81.5219213688,
          -86.7988174678,
          -80.2425332162,
          -84.1763240815,
          -93.2148796496,
          -94.7441921112,
          -86.2690372417,
          -85.3942940148,
          -87.4909551115,
          -87.3472907397,
          -94.3696317306,
          -94.1536274531,
          -72.6834012389,
          -75.5418960925,
          -80.2241278263,
          -118.227506568,
          -78.8475237264,
          -81.1783435493,
          -83.6495823768,
          -82.0708396775,
          -71.0241656338,
          -71.0996396919,
          -93.7962236108,
          -70.9441204537,
          -86.2677059552,
          -71.1626790341,
          -74.1752997118,
          -74.1281123174,
          -74.1624181271,
          -75.1072961899,
          -74.7639943311,
          -90.2451186799,
          -90.2124528561,
          -89.0701908439,
          -83.6920640313,
          -83.1053178776,
          -72.5395254143,
          -88.1184482714,
          -87.5268004073
         ],
         "marker": {
          "color": "#00cc96"
         },
         "name": "2",
         "showlegend": true,
         "type": "scattergeo"
        },
        {
         "customdata": [
          [
           "Waco",
           "TX"
          ],
          [
           "Inglewood",
           "CA"
          ],
          [
           "Lynwood",
           "CA"
          ],
          [
           "Lancaster",
           "CA"
          ],
          [
           "Ogden",
           "UT"
          ],
          [
           "Los Angeles",
           "CA"
          ],
          [
           "Long Beach",
           "CA"
          ],
          [
           "Provo",
           "UT"
          ],
          [
           "Manteca",
           "CA"
          ],
          [
           "Tyler",
           "TX"
          ],
          [
           "Pasadena",
           "TX"
          ],
          [
           "San Antonio",
           "TX"
          ],
          [
           "San Angelo",
           "TX"
          ],
          [
           "Modesto",
           "CA"
          ],
          [
           "Moreno Valley",
           "CA"
          ],
          [
           "Norwalk",
           "CA"
          ],
          [
           "Pharr",
           "TX"
          ],
          [
           "Oakland",
           "CA"
          ],
          [
           "Indio",
           "CA"
          ],
          [
           "Odessa",
           "TX"
          ],
          [
           "Ontario",
           "CA"
          ],
          [
           "Mission",
           "TX"
          ],
          [
           "Oxnard",
           "CA"
          ],
          [
           "Mesquite",
           "TX"
          ],
          [
           "Merced",
           "CA"
          ],
          [
           "West Valley City",
           "UT"
          ],
          [
           "Las Cruces",
           "NM"
          ],
          [
           "Hemet",
           "CA"
          ],
          [
           "Avondale",
           "AZ"
          ],
          [
           "Glendale",
           "AZ"
          ],
          [
           "Phoenix",
           "AZ"
          ],
          [
           "Tucson",
           "AZ"
          ],
          [
           "Yakima",
           "WA"
          ],
          [
           "Yuma",
           "AZ"
          ],
          [
           "Alhambra",
           "CA"
          ],
          [
           "Anaheim",
           "CA"
          ],
          [
           "Antioch",
           "CA"
          ],
          [
           "Kent",
           "WA"
          ],
          [
           "Apple Valley",
           "CA"
          ],
          [
           "Bakersfield",
           "CA"
          ],
          [
           "Hesperia",
           "CA"
          ],
          [
           "Baldwin Park",
           "CA"
          ],
          [
           "Palmdale",
           "CA"
          ],
          [
           "Carson",
           "CA"
          ],
          [
           "Downey",
           "CA"
          ],
          [
           "El Cajon",
           "CA"
          ],
          [
           "El Monte",
           "CA"
          ],
          [
           "Escondido",
           "CA"
          ],
          [
           "Fairfield",
           "CA"
          ],
          [
           "Fontana",
           "CA"
          ],
          [
           "Fresno",
           "CA"
          ],
          [
           "Garden Grove",
           "CA"
          ],
          [
           "Hawthorne",
           "CA"
          ],
          [
           "Hayward",
           "CA"
          ],
          [
           "Bellflower",
           "CA"
          ],
          [
           "McAllen",
           "TX"
          ],
          [
           "Dallas",
           "TX"
          ],
          [
           "Longview",
           "TX"
          ],
          [
           "Visalia",
           "CA"
          ],
          [
           "Vista",
           "CA"
          ],
          [
           "Westminster",
           "CA"
          ],
          [
           "Greeley",
           "CO"
          ],
          [
           "Pueblo",
           "CO"
          ],
          [
           "Hialeah",
           "FL"
          ],
          [
           "Miami",
           "FL"
          ],
          [
           "Miami Beach",
           "FL"
          ],
          [
           "Nampa",
           "ID"
          ],
          [
           "Salem",
           "OR"
          ],
          [
           "Aurora",
           "IL"
          ],
          [
           "Medford",
           "OR"
          ],
          [
           "Chicago",
           "IL"
          ],
          [
           "Gresham",
           "OR"
          ],
          [
           "Cicero",
           "IL"
          ],
          [
           "Elgin",
           "IL"
          ],
          [
           "Joliet",
           "IL"
          ],
          [
           "Rockford",
           "IL"
          ],
          [
           "Waukegan",
           "IL"
          ],
          [
           "Fort Wayne",
           "IN"
          ],
          [
           "Las Vegas",
           "NV"
          ],
          [
           "North Las Vegas",
           "NV"
          ],
          [
           "Reno",
           "NV"
          ],
          [
           "Sparks",
           "NV"
          ],
          [
           "Elizabeth",
           "NJ"
          ],
          [
           "Jersey City",
           "NJ"
          ],
          [
           "Union City",
           "NJ"
          ],
          [
           "Victorville",
           "CA"
          ],
          [
           "Vallejo",
           "CA"
          ],
          [
           "Turlock",
           "CA"
          ],
          [
           "Stockton",
           "CA"
          ],
          [
           "Perris",
           "CA"
          ],
          [
           "Pomona",
           "CA"
          ],
          [
           "Laredo",
           "TX"
          ],
          [
           "Killeen",
           "TX"
          ],
          [
           "Irving",
           "TX"
          ],
          [
           "Houston",
           "TX"
          ],
          [
           "Grand Prairie",
           "TX"
          ],
          [
           "Garland",
           "TX"
          ],
          [
           "Redding",
           "CA"
          ],
          [
           "Fort Worth",
           "TX"
          ],
          [
           "El Paso",
           "TX"
          ],
          [
           "Edinburg",
           "TX"
          ],
          [
           "Rialto",
           "CA"
          ],
          [
           "Lubbock",
           "TX"
          ],
          [
           "Corpus Christi",
           "TX"
          ],
          [
           "Riverside",
           "CA"
          ],
          [
           "Bryan",
           "TX"
          ],
          [
           "Brownsville",
           "TX"
          ],
          [
           "Beaumont",
           "TX"
          ],
          [
           "Baytown",
           "TX"
          ],
          [
           "Sacramento",
           "CA"
          ],
          [
           "Salinas",
           "CA"
          ],
          [
           "Amarillo",
           "TX"
          ],
          [
           "San Bernardino",
           "CA"
          ],
          [
           "Abilene",
           "TX"
          ],
          [
           "Santa Ana",
           "CA"
          ],
          [
           "Santa Maria",
           "CA"
          ],
          [
           "South Gate",
           "CA"
          ],
          [
           "Richmond",
           "CA"
          ],
          [
           "Cheyenne",
           "WY"
          ]
         ],
         "geo": "geo",
         "hovertemplate": "group=3<br>Lat=%{lat}<br>Lon=%{lon}<br>PlaceName=%{customdata[0]}<br>StateAbbr=%{customdata[1]}<extra></extra>",
         "lat": [
          31.5597607137,
          33.9565748018,
          33.9239616867,
          34.6934347017,
          41.2281567535,
          34.1182277898,
          33.8060144825,
          40.2457185288,
          37.7961925102,
          32.3154021183,
          29.6589511488,
          29.4721475333,
          31.440468746,
          37.6615478221,
          33.9244314112,
          33.9068808228,
          26.168815399,
          37.790878035,
          33.7298067837,
          31.879456461,
          34.0392649464,
          26.2033406464,
          34.1959237731,
          32.7641310166,
          37.3055863217,
          40.6887696962,
          32.326638797,
          33.7352277311,
          33.3858367405,
          33.5796123089,
          33.5724138695,
          32.1567244483,
          46.5925792092,
          32.5986027117,
          34.0839734383,
          33.8389076996,
          37.9777042922,
          47.3849636272,
          34.5315984948,
          35.3513302855,
          34.3973476773,
          34.082871519,
          34.5944899803,
          33.8374083001,
          33.937867256,
          32.8016581921,
          34.073919653,
          33.1346952955,
          38.2558446343,
          34.0974227833,
          36.7826786711,
          33.7786940635,
          33.914667701,
          37.6329591551,
          33.8880417923,
          26.2186289942,
          32.7939804066,
          32.5192857856,
          36.3270623157,
          33.1895481978,
          33.7521523769,
          40.4141369521,
          38.2733957251,
          25.869626948,
          25.782295897,
          25.8167101614,
          43.5829315681,
          44.923273154,
          41.7637750837,
          42.3371987584,
          41.8372950615,
          45.5024256798,
          41.844539143,
          42.0385402472,
          41.5206390037,
          42.2633180015,
          42.3702955582,
          41.0884920417,
          36.2274148438,
          36.2891993562,
          39.5540171998,
          39.573373276,
          40.6664447729,
          40.7188130852,
          40.7674606884,
          34.5277691103,
          38.1135329247,
          37.5052158271,
          37.9766322679,
          33.7897346094,
          34.0585026366,
          27.5482572475,
          31.0757648143,
          32.8583808131,
          29.7806691396,
          32.6867650238,
          32.9100799867,
          40.5697591271,
          32.780192804,
          31.8481123506,
          26.3155843974,
          34.1128158089,
          33.5666251178,
          27.7291588337,
          33.9381251685,
          30.6665687582,
          25.9981977861,
          30.084416647,
          29.7571153043,
          38.5666321567,
          36.6889174321,
          35.2003835544,
          34.1392322844,
          32.4546510898,
          33.7366948419,
          34.9333735757,
          33.9447322664,
          37.9479710365,
          41.1460804265
         ],
         "legendgroup": "3",
         "lon": [
          -97.1883333282,
          -118.344444926,
          -118.201648375,
          -118.175306356,
          -111.967450557,
          -118.408500088,
          -118.160894146,
          -111.645715857,
          -121.231230612,
          -95.3050093799,
          -95.1509173148,
          -98.5246763525,
          -100.452243142,
          -120.988548061,
          -117.204501895,
          -118.082915204,
          -98.1904720704,
          -122.214859257,
          -116.237258141,
          -102.344465435,
          -117.606427103,
          -98.322770513,
          -119.18187657,
          -96.5927445114,
          -120.477710571,
          -112.011667394,
          -106.789465579,
          -116.994605005,
          -112.323626619,
          -112.225306421,
          -112.088995222,
          -110.877085494,
          -120.547807614,
          -114.54836837,
          -118.135514119,
          -117.857613481,
          -121.796606971,
          -122.217890194,
          -117.211012664,
          -119.029786003,
          -117.314392219,
          -117.972100918,
          -118.105772328,
          -118.255936422,
          -118.131150116,
          -116.960483614,
          -118.029071951,
          -117.072122618,
          -122.039303253,
          -117.459241285,
          -119.794126569,
          -117.960111162,
          -118.347667728,
          -122.077051051,
          -118.127100236,
          -98.2451704536,
          -96.7656929463,
          -94.762197598,
          -119.325273214,
          -117.238607217,
          -117.993760054,
          -104.771170982,
          -104.612001218,
          -80.3045294666,
          -80.2215647762,
          -80.1341952652,
          -116.564145085,
          -123.0248671,
          -88.2900949057,
          -122.853625909,
          -87.6862308732,
          -122.441469029,
          -87.7592873023,
          -88.3224947104,
          -88.1507097756,
          -89.0625958362,
          -87.8712595095,
          -85.1435898792,
          -115.262670095,
          -115.088496088,
          -119.852733516,
          -119.713134168,
          -74.1938679138,
          -74.0687740635,
          -74.032293507,
          -117.353855136,
          -122.235518478,
          -120.858762412,
          -121.311121669,
          -117.223291831,
          -117.762551658,
          -99.4867797312,
          -97.7285651299,
          -96.9703058323,
          -95.3860033966,
          -97.0209311916,
          -96.6304258603,
          -122.365026322,
          -97.3470323225,
          -106.432021874,
          -98.1637130371,
          -117.388535978,
          -101.886335663,
          -97.4019095379,
          -117.394845824,
          -96.3663819223,
          -97.4566343763,
          -94.1441072222,
          -94.9676276217,
          -121.468299801,
          -121.631811961,
          -101.828292514,
          -117.295272732,
          -99.7383043723,
          -117.881890237,
          -120.443326954,
          -118.192550525,
          -122.336803759,
          -104.789064332
         ],
         "marker": {
          "color": "#ab63fa"
         },
         "name": "3",
         "showlegend": true,
         "type": "scattergeo"
        }
       ],
       "layout": {
        "geo": {
         "center": {},
         "domain": {
          "x": [
           0,
           1
          ],
          "y": [
           0,
           1
          ]
         },
         "scope": "usa"
        },
        "legend": {
         "title": {
          "text": "Group"
         },
         "tracegroupgap": 0
        },
        "showlegend": true,
        "template": {
         "data": {
          "bar": [
           {
            "error_x": {
             "color": "#2a3f5f"
            },
            "error_y": {
             "color": "#2a3f5f"
            },
            "marker": {
             "line": {
              "color": "#E5ECF6",
              "width": 0.5
             }
            },
            "type": "bar"
           }
          ],
          "barpolar": [
           {
            "marker": {
             "line": {
              "color": "#E5ECF6",
              "width": 0.5
             }
            },
            "type": "barpolar"
           }
          ],
          "carpet": [
           {
            "aaxis": {
             "endlinecolor": "#2a3f5f",
             "gridcolor": "white",
             "linecolor": "white",
             "minorgridcolor": "white",
             "startlinecolor": "#2a3f5f"
            },
            "baxis": {
             "endlinecolor": "#2a3f5f",
             "gridcolor": "white",
             "linecolor": "white",
             "minorgridcolor": "white",
             "startlinecolor": "#2a3f5f"
            },
            "type": "carpet"
           }
          ],
          "choropleth": [
           {
            "colorbar": {
             "outlinewidth": 0,
             "ticks": ""
            },
            "type": "choropleth"
           }
          ],
          "contour": [
           {
            "colorbar": {
             "outlinewidth": 0,
             "ticks": ""
            },
            "colorscale": [
             [
              0,
              "#0d0887"
             ],
             [
              0.1111111111111111,
              "#46039f"
             ],
             [
              0.2222222222222222,
              "#7201a8"
             ],
             [
              0.3333333333333333,
              "#9c179e"
             ],
             [
              0.4444444444444444,
              "#bd3786"
             ],
             [
              0.5555555555555556,
              "#d8576b"
             ],
             [
              0.6666666666666666,
              "#ed7953"
             ],
             [
              0.7777777777777778,
              "#fb9f3a"
             ],
             [
              0.8888888888888888,
              "#fdca26"
             ],
             [
              1,
              "#f0f921"
             ]
            ],
            "type": "contour"
           }
          ],
          "contourcarpet": [
           {
            "colorbar": {
             "outlinewidth": 0,
             "ticks": ""
            },
            "type": "contourcarpet"
           }
          ],
          "heatmap": [
           {
            "colorbar": {
             "outlinewidth": 0,
             "ticks": ""
            },
            "colorscale": [
             [
              0,
              "#0d0887"
             ],
             [
              0.1111111111111111,
              "#46039f"
             ],
             [
              0.2222222222222222,
              "#7201a8"
             ],
             [
              0.3333333333333333,
              "#9c179e"
             ],
             [
              0.4444444444444444,
              "#bd3786"
             ],
             [
              0.5555555555555556,
              "#d8576b"
             ],
             [
              0.6666666666666666,
              "#ed7953"
             ],
             [
              0.7777777777777778,
              "#fb9f3a"
             ],
             [
              0.8888888888888888,
              "#fdca26"
             ],
             [
              1,
              "#f0f921"
             ]
            ],
            "type": "heatmap"
           }
          ],
          "heatmapgl": [
           {
            "colorbar": {
             "outlinewidth": 0,
             "ticks": ""
            },
            "colorscale": [
             [
              0,
              "#0d0887"
             ],
             [
              0.1111111111111111,
              "#46039f"
             ],
             [
              0.2222222222222222,
              "#7201a8"
             ],
             [
              0.3333333333333333,
              "#9c179e"
             ],
             [
              0.4444444444444444,
              "#bd3786"
             ],
             [
              0.5555555555555556,
              "#d8576b"
             ],
             [
              0.6666666666666666,
              "#ed7953"
             ],
             [
              0.7777777777777778,
              "#fb9f3a"
             ],
             [
              0.8888888888888888,
              "#fdca26"
             ],
             [
              1,
              "#f0f921"
             ]
            ],
            "type": "heatmapgl"
           }
          ],
          "histogram": [
           {
            "marker": {
             "colorbar": {
              "outlinewidth": 0,
              "ticks": ""
             }
            },
            "type": "histogram"
           }
          ],
          "histogram2d": [
           {
            "colorbar": {
             "outlinewidth": 0,
             "ticks": ""
            },
            "colorscale": [
             [
              0,
              "#0d0887"
             ],
             [
              0.1111111111111111,
              "#46039f"
             ],
             [
              0.2222222222222222,
              "#7201a8"
             ],
             [
              0.3333333333333333,
              "#9c179e"
             ],
             [
              0.4444444444444444,
              "#bd3786"
             ],
             [
              0.5555555555555556,
              "#d8576b"
             ],
             [
              0.6666666666666666,
              "#ed7953"
             ],
             [
              0.7777777777777778,
              "#fb9f3a"
             ],
             [
              0.8888888888888888,
              "#fdca26"
             ],
             [
              1,
              "#f0f921"
             ]
            ],
            "type": "histogram2d"
           }
          ],
          "histogram2dcontour": [
           {
            "colorbar": {
             "outlinewidth": 0,
             "ticks": ""
            },
            "colorscale": [
             [
              0,
              "#0d0887"
             ],
             [
              0.1111111111111111,
              "#46039f"
             ],
             [
              0.2222222222222222,
              "#7201a8"
             ],
             [
              0.3333333333333333,
              "#9c179e"
             ],
             [
              0.4444444444444444,
              "#bd3786"
             ],
             [
              0.5555555555555556,
              "#d8576b"
             ],
             [
              0.6666666666666666,
              "#ed7953"
             ],
             [
              0.7777777777777778,
              "#fb9f3a"
             ],
             [
              0.8888888888888888,
              "#fdca26"
             ],
             [
              1,
              "#f0f921"
             ]
            ],
            "type": "histogram2dcontour"
           }
          ],
          "mesh3d": [
           {
            "colorbar": {
             "outlinewidth": 0,
             "ticks": ""
            },
            "type": "mesh3d"
           }
          ],
          "parcoords": [
           {
            "line": {
             "colorbar": {
              "outlinewidth": 0,
              "ticks": ""
             }
            },
            "type": "parcoords"
           }
          ],
          "pie": [
           {
            "automargin": true,
            "type": "pie"
           }
          ],
          "scatter": [
           {
            "marker": {
             "colorbar": {
              "outlinewidth": 0,
              "ticks": ""
             }
            },
            "type": "scatter"
           }
          ],
          "scatter3d": [
           {
            "line": {
             "colorbar": {
              "outlinewidth": 0,
              "ticks": ""
             }
            },
            "marker": {
             "colorbar": {
              "outlinewidth": 0,
              "ticks": ""
             }
            },
            "type": "scatter3d"
           }
          ],
          "scattercarpet": [
           {
            "marker": {
             "colorbar": {
              "outlinewidth": 0,
              "ticks": ""
             }
            },
            "type": "scattercarpet"
           }
          ],
          "scattergeo": [
           {
            "marker": {
             "colorbar": {
              "outlinewidth": 0,
              "ticks": ""
             }
            },
            "type": "scattergeo"
           }
          ],
          "scattergl": [
           {
            "marker": {
             "colorbar": {
              "outlinewidth": 0,
              "ticks": ""
             }
            },
            "type": "scattergl"
           }
          ],
          "scattermapbox": [
           {
            "marker": {
             "colorbar": {
              "outlinewidth": 0,
              "ticks": ""
             }
            },
            "type": "scattermapbox"
           }
          ],
          "scatterpolar": [
           {
            "marker": {
             "colorbar": {
              "outlinewidth": 0,
              "ticks": ""
             }
            },
            "type": "scatterpolar"
           }
          ],
          "scatterpolargl": [
           {
            "marker": {
             "colorbar": {
              "outlinewidth": 0,
              "ticks": ""
             }
            },
            "type": "scatterpolargl"
           }
          ],
          "scatterternary": [
           {
            "marker": {
             "colorbar": {
              "outlinewidth": 0,
              "ticks": ""
             }
            },
            "type": "scatterternary"
           }
          ],
          "surface": [
           {
            "colorbar": {
             "outlinewidth": 0,
             "ticks": ""
            },
            "colorscale": [
             [
              0,
              "#0d0887"
             ],
             [
              0.1111111111111111,
              "#46039f"
             ],
             [
              0.2222222222222222,
              "#7201a8"
             ],
             [
              0.3333333333333333,
              "#9c179e"
             ],
             [
              0.4444444444444444,
              "#bd3786"
             ],
             [
              0.5555555555555556,
              "#d8576b"
             ],
             [
              0.6666666666666666,
              "#ed7953"
             ],
             [
              0.7777777777777778,
              "#fb9f3a"
             ],
             [
              0.8888888888888888,
              "#fdca26"
             ],
             [
              1,
              "#f0f921"
             ]
            ],
            "type": "surface"
           }
          ],
          "table": [
           {
            "cells": {
             "fill": {
              "color": "#EBF0F8"
             },
             "line": {
              "color": "white"
             }
            },
            "header": {
             "fill": {
              "color": "#C8D4E3"
             },
             "line": {
              "color": "white"
             }
            },
            "type": "table"
           }
          ]
         },
         "layout": {
          "annotationdefaults": {
           "arrowcolor": "#2a3f5f",
           "arrowhead": 0,
           "arrowwidth": 1
          },
          "coloraxis": {
           "colorbar": {
            "outlinewidth": 0,
            "ticks": ""
           }
          },
          "colorscale": {
           "diverging": [
            [
             0,
             "#8e0152"
            ],
            [
             0.1,
             "#c51b7d"
            ],
            [
             0.2,
             "#de77ae"
            ],
            [
             0.3,
             "#f1b6da"
            ],
            [
             0.4,
             "#fde0ef"
            ],
            [
             0.5,
             "#f7f7f7"
            ],
            [
             0.6,
             "#e6f5d0"
            ],
            [
             0.7,
             "#b8e186"
            ],
            [
             0.8,
             "#7fbc41"
            ],
            [
             0.9,
             "#4d9221"
            ],
            [
             1,
             "#276419"
            ]
           ],
           "sequential": [
            [
             0,
             "#0d0887"
            ],
            [
             0.1111111111111111,
             "#46039f"
            ],
            [
             0.2222222222222222,
             "#7201a8"
            ],
            [
             0.3333333333333333,
             "#9c179e"
            ],
            [
             0.4444444444444444,
             "#bd3786"
            ],
            [
             0.5555555555555556,
             "#d8576b"
            ],
            [
             0.6666666666666666,
             "#ed7953"
            ],
            [
             0.7777777777777778,
             "#fb9f3a"
            ],
            [
             0.8888888888888888,
             "#fdca26"
            ],
            [
             1,
             "#f0f921"
            ]
           ],
           "sequentialminus": [
            [
             0,
             "#0d0887"
            ],
            [
             0.1111111111111111,
             "#46039f"
            ],
            [
             0.2222222222222222,
             "#7201a8"
            ],
            [
             0.3333333333333333,
             "#9c179e"
            ],
            [
             0.4444444444444444,
             "#bd3786"
            ],
            [
             0.5555555555555556,
             "#d8576b"
            ],
            [
             0.6666666666666666,
             "#ed7953"
            ],
            [
             0.7777777777777778,
             "#fb9f3a"
            ],
            [
             0.8888888888888888,
             "#fdca26"
            ],
            [
             1,
             "#f0f921"
            ]
           ]
          },
          "colorway": [
           "#636efa",
           "#EF553B",
           "#00cc96",
           "#ab63fa",
           "#FFA15A",
           "#19d3f3",
           "#FF6692",
           "#B6E880",
           "#FF97FF",
           "#FECB52"
          ],
          "font": {
           "color": "#2a3f5f"
          },
          "geo": {
           "bgcolor": "white",
           "lakecolor": "white",
           "landcolor": "#E5ECF6",
           "showlakes": true,
           "showland": true,
           "subunitcolor": "white"
          },
          "hoverlabel": {
           "align": "left"
          },
          "hovermode": "closest",
          "mapbox": {
           "style": "light"
          },
          "paper_bgcolor": "white",
          "plot_bgcolor": "#E5ECF6",
          "polar": {
           "angularaxis": {
            "gridcolor": "white",
            "linecolor": "white",
            "ticks": ""
           },
           "bgcolor": "#E5ECF6",
           "radialaxis": {
            "gridcolor": "white",
            "linecolor": "white",
            "ticks": ""
           }
          },
          "scene": {
           "xaxis": {
            "backgroundcolor": "#E5ECF6",
            "gridcolor": "white",
            "gridwidth": 2,
            "linecolor": "white",
            "showbackground": true,
            "ticks": "",
            "zerolinecolor": "white"
           },
           "yaxis": {
            "backgroundcolor": "#E5ECF6",
            "gridcolor": "white",
            "gridwidth": 2,
            "linecolor": "white",
            "showbackground": true,
            "ticks": "",
            "zerolinecolor": "white"
           },
           "zaxis": {
            "backgroundcolor": "#E5ECF6",
            "gridcolor": "white",
            "gridwidth": 2,
            "linecolor": "white",
            "showbackground": true,
            "ticks": "",
            "zerolinecolor": "white"
           }
          },
          "shapedefaults": {
           "line": {
            "color": "#2a3f5f"
           }
          },
          "ternary": {
           "aaxis": {
            "gridcolor": "white",
            "linecolor": "white",
            "ticks": ""
           },
           "baxis": {
            "gridcolor": "white",
            "linecolor": "white",
            "ticks": ""
           },
           "bgcolor": "#E5ECF6",
           "caxis": {
            "gridcolor": "white",
            "linecolor": "white",
            "ticks": ""
           }
          },
          "title": {
           "x": 0.05
          },
          "xaxis": {
           "automargin": true,
           "gridcolor": "white",
           "linecolor": "white",
           "ticks": "",
           "title": {
            "standoff": 15
           },
           "zerolinecolor": "white",
           "zerolinewidth": 2
          },
          "yaxis": {
           "automargin": true,
           "gridcolor": "white",
           "linecolor": "white",
           "ticks": "",
           "title": {
            "standoff": 15
           },
           "zerolinecolor": "white",
           "zerolinewidth": 2
          }
         }
        },
        "title": {
         "text": "Geographic Distribution of Groups"
        }
       }
      },
      "text/html": [
       "<div>                            <div id=\"b497785c-f5d1-4db3-8e45-f1bc0243a4cc\" class=\"plotly-graph-div\" style=\"height:525px; width:100%;\"></div>            <script type=\"text/javascript\">                require([\"plotly\"], function(Plotly) {                    window.PLOTLYENV=window.PLOTLYENV || {};                                    if (document.getElementById(\"b497785c-f5d1-4db3-8e45-f1bc0243a4cc\")) {                    Plotly.newPlot(                        \"b497785c-f5d1-4db3-8e45-f1bc0243a4cc\",                        [{\"customdata\": [[\"Cape Coral\", \"FL\"], [\"Orlando\", \"FL\"], [\"Palm Bay\", \"FL\"], [\"Palm Coast\", \"FL\"], [\"Pompano Beach\", \"FL\"], [\"Port St. Lucie\", \"FL\"], [\"St. Petersburg\", \"FL\"], [\"Sunrise\", \"FL\"], [\"Tallahassee\", \"FL\"], [\"Tampa\", \"FL\"], [\"West Palm Beach\", \"FL\"], [\"Pittsburgh\", \"PA\"], [\"Athens\", \"GA\"], [\"Atlanta\", \"GA\"], [\"Columbus\", \"GA\"], [\"Bethlehem\", \"PA\"], [\"Warner Robins\", \"GA\"], [\"Decatur\", \"IL\"], [\"Peoria\", \"IL\"], [\"Tulsa\", \"OK\"], [\"Springfield\", \"IL\"], [\"Oklahoma City\", \"OK\"], [\"Miramar\", \"FL\"], [\"Scranton\", \"PA\"], [\"Melbourne\", \"FL\"], [\"Pawtucket\", \"RI\"], [\"Nashville\", \"TN\"], [\"Murfreesboro\", \"TN\"], [\"Knoxville\", \"TN\"], [\"Clarksville\", \"TN\"], [\"Chattanooga\", \"TN\"], [\"Rock Hill\", \"SC\"], [\"Columbia\", \"SC\"], [\"Bridgeport\", \"CT\"], [\"New Britain\", \"CT\"], [\"New Haven\", \"CT\"], [\"Bloomington\", \"IN\"], [\"Waterbury\", \"CT\"], [\"Clearwater\", \"FL\"], [\"Deerfield Beach\", \"FL\"], [\"Deltona\", \"FL\"], [\"Fort Lauderdale\", \"FL\"], [\"Gainesville\", \"FL\"], [\"Providence\", \"RI\"], [\"Hollywood\", \"FL\"], [\"Jacksonville\", \"FL\"], [\"Lakeland\", \"FL\"], [\"Largo\", \"FL\"], [\"Boynton Beach\", \"FL\"], [\"Evansville\", \"IN\"], [\"Norman\", \"OK\"], [\"Indianapolis\", \"IN\"], [\"Warren\", \"MI\"], [\"Westland\", \"MI\"], [\"Wyoming\", \"MI\"], [\"Wilmington\", \"NC\"], [\"Independence\", \"MO\"], [\"Kansas City\", \"MO\"], [\"St. Joseph\", \"MO\"], [\"Jacksonville\", \"NC\"], [\"Springfield\", \"MO\"], [\"High Point\", \"NC\"], [\"Sterling Heights\", \"MI\"], [\"Greenville\", \"NC\"], [\"Gastonia\", \"NC\"], [\"Manchester\", \"NH\"], [\"Fayetteville\", \"NC\"], [\"Durham\", \"NC\"], [\"Concord\", \"NC\"], [\"Charlotte\", \"NC\"], [\"Yonkers\", \"NY\"], [\"Schenectady\", \"NY\"], [\"Albany\", \"NY\"], [\"Mount Vernon\", \"NY\"], [\"Greensboro\", \"NC\"], [\"Arlington\", \"TX\"], [\"Southfield\", \"MI\"], [\"Kalamazoo\", \"MI\"], [\"Lafayette\", \"IN\"], [\"Des Moines\", \"IA\"], [\"Sioux City\", \"IA\"], [\"Waterloo\", \"IA\"], [\"Topeka\", \"KS\"], [\"Wichita\", \"KS\"], [\"Lexington\", \"KY\"], [\"Louisville\", \"KY\"], [\"Baton Rouge\", \"LA\"], [\"Kenner\", \"LA\"], [\"Lansing\", \"MI\"], [\"Lafayette\", \"LA\"], [\"New Orleans\", \"LA\"], [\"Baltimore\", \"MD\"], [\"Boston\", \"MA\"], [\"Columbus\", \"OH\"], [\"Lowell\", \"MA\"], [\"Lynn\", \"MA\"], [\"Worcester\", \"MA\"], [\"Dearborn\", \"MI\"], [\"Winston-Salem\", \"NC\"], [\"Grand Rapids\", \"MI\"], [\"Parma\", \"OH\"], [\"Denton\", \"TX\"], [\"New York\", \"NY\"], [\"Charleston\", \"WV\"], [\"Fayetteville\", \"AR\"], [\"Tacoma\", \"WA\"], [\"Jonesboro\", \"AR\"], [\"Little Rock\", \"AR\"], [\"Suffolk\", \"VA\"], [\"Roanoke\", \"VA\"], [\"Spokane\", \"WA\"], [\"Richmond\", \"VA\"], [\"Portsmouth\", \"VA\"], [\"Chesapeake\", \"VA\"], [\"Mesa\", \"AZ\"], [\"Green Bay\", \"WI\"], [\"Norfolk\", \"VA\"], [\"Hampton\", \"VA\"], [\"Wichita Falls\", \"TX\"], [\"Kenosha\", \"WI\"], [\"Huntsville\", \"AL\"], [\"Newport News\", \"VA\"], [\"Lynchburg\", \"VA\"], [\"Milwaukee\", \"WI\"], [\"Everett\", \"WA\"], [\"Kennewick\", \"WA\"], [\"Racine\", \"WI\"]], \"geo\": \"geo\", \"hovertemplate\": \"group=0<br>Lat=%{lat}<br>Lon=%{lon}<br>PlaceName=%{customdata[0]}<br>StateAbbr=%{customdata[1]}<extra></extra>\", \"lat\": [26.6448544993, 28.4800646771, 27.9838255249, 29.5405590976, 26.2428335699, 27.2808680308, 27.792894971, 26.1546878303, 30.4548951211, 27.996198041, 26.7478714655, 40.4396297486, 33.9508170683, 33.7626524683, 32.5099614852, 40.6266402578, 32.5985113609, 39.8555822645, 40.7515684146, 36.1284213425, 39.7716473322, 35.467564288, 25.9773288233, 41.4043729362, 28.1158805782, 41.8744534517, 36.1712229904, 35.850778195, 35.9690594531, 36.569683159, 35.0662472165, 34.9403611496, 34.0366069566, 41.1928054233, 41.675922654, 41.3113869392, 39.1637458221, 41.5582443266, 27.9805997919, 26.3049966413, 28.905060048, 26.1418205174, 29.6817027431, 41.823480533, 26.0287025703, 30.3319820139, 28.0558482664, 27.9090907734, 26.5279818052, 37.9867158026, 35.2335032647, 39.7771221075, 42.4934233034, 42.3192220455, 42.8909745661, 34.2102758569, 39.0870794771, 39.1239413971, 39.7598312179, 34.7331103037, 37.1942661484, 35.9881243803, 42.580985283, 35.5959211876, 35.2472984431, 42.9844541713, 35.0851309527, 35.9809147402, 35.3939316958, 35.2078721969, 40.9465025597, 42.8025204414, 42.6663969604, 40.9136008569, 36.0960480415, 32.699836862, 42.4765016267, 42.2748756474, 40.3994285285, 41.5741349525, 42.4963149039, 42.4919736932, 39.0359549911, 37.690561478, 38.0423254022, 38.1777689918, 30.4510891679, 30.0106937201, 42.7090711751, 30.2120582815, 30.0687009935, 39.3084523991, 42.3155796777, 39.9859500484, 42.6388727331, 42.4783322881, 42.2705425446, 42.3126884626, 36.1029453039, 42.9614815414, 41.3842399838, 33.2156160443, 40.694960689, 38.3484079736, 36.0712117312, 47.2425411445, 35.8208121538, 34.7253957894, 36.6930367981, 37.2782181855, 47.6736243259, 37.5293933083, 36.8451450228, 36.6777521118, 33.4022837359, 44.5149847816, 36.8932863006, 37.0533009025, 33.9072739838, 42.585570271, 34.6989692671, 37.1051141309, 37.4004163016, 43.0641258925, 47.9497966189, 46.198438428, 42.7274599494], \"legendgroup\": \"0\", \"lon\": [-81.9931108298, -81.3452411179, -80.6666722846, -81.2508206143, -80.131245161, -80.3832154574, -82.6650743239, -80.299841102, -84.2526459938, -82.4450349799, -80.1337397544, -79.9762614995, -83.3689417445, -84.4231419055, -84.8770410586, -75.3679048175, -83.6530271267, -88.9336983421, -89.615255458, -95.9036195464, -89.6540780049, -97.5137615524, -80.3357316003, -75.6649126898, -80.6508814613, -71.3743580803, -86.7845944773, -86.408628238, -83.9495877264, -87.3432371614, -85.2466771892, -81.0249178286, -80.9037852694, -73.196054694, -72.7861630705, -72.9247595793, -86.5257124351, -73.036129832, -82.7544099135, -80.1277706584, -81.2134269839, -80.1471225502, -82.345278266, -71.4218129335, -80.1683976059, -81.6752266207, -81.9539536462, -82.7714203383, -80.0814660417, -87.538270731, -97.3470413838, -86.145782152, -83.0270075248, -83.3805461719, -85.7067229249, -77.8872842368, -94.3502748237, -94.5541236795, -94.8209246813, -77.3951822819, -93.2914273656, -79.9932956384, -83.0303680858, -77.3766133673, -81.1836588468, -71.4445313287, -78.9791676456, -78.9059161097, -80.6352429349, -80.8300754645, -73.8636959965, -73.9275333869, -73.7986826267, -73.8291001676, -79.8276833061, -97.125089612, -83.2605284738, -85.588188576, -86.8617007404, -93.6165066086, -96.3913834837, -92.3521759342, -95.6954155341, -97.3429366807, -84.4587259608, -85.6664099974, -91.1263551997, -90.2550320135, -84.5584470022, -92.0317532321, -89.9316317895, -76.6160492311, -71.0916505804, -82.9851738516, -71.321714396, -70.9662372538, -71.8079404584, -83.2129368006, -80.2609889241, -85.6556858473, -81.728599153, -97.1412438684, -73.9313850409, -81.632165003, -94.1659600436, -122.45447391, -90.6794991686, -92.3583751863, -76.6414278469, -79.9581615989, -117.415973291, -77.475568168, -76.3552763467, -76.3024325925, -111.718721181, -87.9896195955, -76.2567157761, -76.3665945624, -98.5292981697, -87.8735745085, -86.6387042882, -76.5182644502, -79.1911081, -87.9672412429, -122.160703911, -119.173245847, -87.813453024], \"marker\": {\"color\": \"#636efa\"}, \"name\": \"0\", \"showlegend\": true, \"type\": \"scattergeo\"}, {\"customdata\": [[\"Olathe\", \"KS\"], [\"Burbank\", \"CA\"], [\"Carlsbad\", \"CA\"], [\"Overland Park\", \"KS\"], [\"Concord\", \"CA\"], [\"Chino\", \"CA\"], [\"Clovis\", \"CA\"], [\"Portland\", \"ME\"], [\"Chula Vista\", \"CA\"], [\"Bellevue\", \"WA\"], [\"Lawrence\", \"KS\"], [\"Chico\", \"CA\"], [\"Chino Hills\", \"CA\"], [\"Auburn\", \"WA\"], [\"Citrus Heights\", \"CA\"], [\"Redondo Beach\", \"CA\"], [\"Costa Mesa\", \"CA\"], [\"Redwood City\", \"CA\"], [\"Eugene\", \"OR\"], [\"Bend\", \"OR\"], [\"Evanston\", \"IL\"], [\"Beaverton\", \"OR\"], [\"Naperville\", \"IL\"], [\"Palatine\", \"IL\"], [\"Fremont\", \"CA\"], [\"Schaumburg\", \"IL\"], [\"Folsom\", \"CA\"], [\"Carmel\", \"IN\"], [\"Fishers\", \"IN\"], [\"Elk Grove\", \"CA\"], [\"Edmond\", \"OK\"], [\"Virginia Beach\", \"VA\"], [\"Buena Park\", \"CA\"], [\"Broken Arrow\", \"OK\"], [\"Cedar Rapids\", \"IA\"], [\"Davenport\", \"IA\"], [\"Daly City\", \"CA\"], [\"Waukesha\", \"WI\"], [\"Corona\", \"CA\"], [\"Cambridge\", \"MA\"], [\"Federal Way\", \"WA\"], [\"Bellingham\", \"WA\"], [\"Tempe\", \"AZ\"], [\"Surprise\", \"AZ\"], [\"Scottsdale\", \"AZ\"], [\"Billings\", \"MT\"], [\"Missoula\", \"MT\"], [\"Lincoln\", \"NE\"], [\"Omaha\", \"NE\"], [\"Henderson\", \"NV\"], [\"Appleton\", \"WI\"], [\"Peoria\", \"AZ\"], [\"O'Fallon\", \"MO\"], [\"Gilbert\", \"AZ\"], [\"Chandler\", \"AZ\"], [\"Clifton\", \"NJ\"], [\"Anchorage\", \"AK\"], [\"Madison\", \"WI\"], [\"Cary\", \"NC\"], [\"Asheville\", \"NC\"], [\"Albuquerque\", \"NM\"], [\"Rio Rancho\", \"NM\"], [\"Santa Fe\", \"NM\"], [\"Hoover\", \"AL\"], [\"Nashua\", \"NH\"], [\"Berkeley\", \"CA\"], [\"Lee's Summit\", \"MO\"], [\"Columbia\", \"MO\"], [\"Newton\", \"MA\"], [\"Quincy\", \"MA\"], [\"Somerville\", \"MA\"], [\"Ann Arbor\", \"MI\"], [\"Champaign\", \"IL\"], [\"Fargo\", \"ND\"], [\"Farmington Hills\", \"MI\"], [\"Renton\", \"WA\"], [\"Seattle\", \"WA\"], [\"Livonia\", \"MI\"], [\"Vancouver\", \"WA\"], [\"Rochester Hills\", \"MI\"], [\"Spokane Valley\", \"WA\"], [\"Troy\", \"MI\"], [\"Bloomington\", \"MN\"], [\"Brooklyn Park\", \"MN\"], [\"Duluth\", \"MN\"], [\"Minneapolis\", \"MN\"], [\"Plymouth\", \"MN\"], [\"Rochester\", \"MN\"], [\"St. Paul\", \"MN\"], [\"Raleigh\", \"NC\"], [\"Alameda\", \"CA\"], [\"Bolingbrook\", \"IL\"], [\"Hillsboro\", \"OR\"], [\"Portland\", \"OR\"], [\"Union City\", \"CA\"], [\"Upland\", \"CA\"], [\"Vacaville\", \"CA\"], [\"Lewisville\", \"TX\"], [\"Sioux Falls\", \"SD\"], [\"Rapid City\", \"SD\"], [\"Pasadena\", \"CA\"], [\"West Covina\", \"CA\"], [\"Whittier\", \"CA\"], [\"Arvada\", \"CO\"], [\"Aurora\", \"CO\"], [\"Boulder\", \"CO\"], [\"Centennial\", \"CO\"], [\"Colorado Springs\", \"CO\"], [\"Denver\", \"CO\"], [\"Fort Collins\", \"CO\"], [\"Mount Pleasant\", \"SC\"], [\"Lakewood\", \"CO\"], [\"Longmont\", \"CO\"], [\"Loveland\", \"CO\"], [\"McKinney\", \"TX\"], [\"Thornton\", \"CO\"], [\"Westminster\", \"CO\"], [\"Midland\", \"TX\"], [\"Danbury\", \"CT\"], [\"Tustin\", \"CA\"], [\"Pleasanton\", \"CA\"], [\"Tracy\", \"CA\"], [\"Torrance\", \"CA\"], [\"College Station\", \"TX\"], [\"Carrollton\", \"TX\"], [\"Roseville\", \"CA\"], [\"Austin\", \"TX\"], [\"Redlands\", \"CA\"], [\"Allen\", \"TX\"], [\"San Buenaventura (Ventura)\", \"CA\"], [\"San Diego\", \"CA\"], [\"San Francisco\", \"CA\"], [\"San Jose\", \"CA\"], [\"San Leandro\", \"CA\"], [\"San Marcos\", \"CA\"], [\"Bloomington\", \"IL\"], [\"San Mateo\", \"CA\"], [\"Frisco\", \"TX\"], [\"Santa Barbara\", \"CA\"], [\"Santa Clara\", \"CA\"], [\"Santa Clarita\", \"CA\"], [\"Rancho Cucamonga\", \"CA\"], [\"Santa Monica\", \"CA\"], [\"Santa Rosa\", \"CA\"], [\"Simi Valley\", \"CA\"], [\"League City\", \"TX\"], [\"Sunnyvale\", \"CA\"], [\"Temecula\", \"CA\"], [\"Thousand Oaks\", \"CA\"], [\"San Ramon\", \"CA\"], [\"Orange\", \"CA\"], [\"Charleston\", \"SC\"], [\"Orem\", \"UT\"], [\"Missouri City\", \"TX\"], [\"St. George\", \"UT\"], [\"Livermore\", \"CA\"], [\"Salt Lake City\", \"UT\"], [\"Pembroke Pines\", \"FL\"], [\"Plantation\", \"FL\"], [\"Lakewood\", \"CA\"], [\"Lake Forest\", \"CA\"], [\"Irvine\", \"CA\"], [\"Sandy\", \"UT\"], [\"West Jordan\", \"UT\"], [\"Huntington Beach\", \"CA\"], [\"Burlington\", \"VT\"], [\"Alexandria\", \"VA\"], [\"Glendale\", \"CA\"], [\"Johns Creek\", \"GA\"], [\"Roswell\", \"GA\"], [\"Sandy Springs\", \"GA\"], [\"Fullerton\", \"CA\"], [\"Honolulu\", \"HI\"], [\"Boise City\", \"ID\"], [\"Meridian\", \"ID\"], [\"Arlington Heights\", \"IL\"], [\"Layton\", \"UT\"], [\"Cranston\", \"RI\"], [\"Iowa City\", \"IA\"], [\"Plano\", \"TX\"], [\"Washington\", \"DC\"], [\"Boca Raton\", \"FL\"], [\"Warwick\", \"RI\"], [\"Pearland\", \"TX\"], [\"New Rochelle\", \"NY\"], [\"Menifee\", \"CA\"], [\"Oceanside\", \"CA\"], [\"Coral Springs\", \"FL\"], [\"Davie\", \"FL\"], [\"Newport Beach\", \"CA\"], [\"Napa\", \"CA\"], [\"Stamford\", \"CT\"], [\"Mountain View\", \"CA\"], [\"Richardson\", \"TX\"], [\"Round Rock\", \"TX\"], [\"Mission Viejo\", \"CA\"], [\"Norwalk\", \"CT\"], [\"Milpitas\", \"CA\"], [\"Sugar Land\", \"TX\"], [\"Murrieta\", \"CA\"]], \"geo\": \"geo\", \"hovertemplate\": \"group=1<br>Lat=%{lat}<br>Lon=%{lon}<br>PlaceName=%{customdata[0]}<br>StateAbbr=%{customdata[1]}<extra></extra>\", \"lat\": [38.884693021, 34.1879799605, 33.1248051026, 38.8872922575, 37.9721810307, 33.983588126, 36.8289400179, 43.6779836271, 32.6282964262, 47.5962437606, 38.9599302924, 39.7568503668, 33.950774546, 47.3038544325, 38.6947788342, 33.8575280159, 33.6667651353, 37.5009145276, 44.0559363346, 44.0561827184, 42.0463099649, 45.4795765674, 41.7482001145, 42.1180663695, 37.5278685405, 42.0305488755, 38.6750494328, 39.9658404613, 39.9587635263, 38.4159992006, 35.6689350516, 36.7534593339, 33.8572126844, 36.0366324911, 41.966729258, 41.5557926876, 37.6861552276, 43.0093332215, 33.8623571787, 42.3758188051, 47.3090846316, 48.7535370315, 33.3882640307, 33.6803835177, 33.6872493651, 45.7893102609, 46.8694402455, 40.8096195695, 41.2642309111, 36.0122394916, 44.2776987457, 33.7847206422, 38.7852244161, 33.310149392, 33.28318981, 40.8631217425, 61.149868731, 43.0809865694, 35.7814978722, 35.5708251391, 35.1055025771, 35.287307935, 35.6662719601, 33.3767602729, 42.7491554459, 37.8725678765, 38.9170508128, 38.9481109651, 42.3316567616, 42.2492981918, 42.3905738858, 42.2756833567, 40.1151051361, 46.8652457832, 42.4859956992, 47.4760546752, 47.622154338, 42.3971592737, 45.6357172365, 42.6645256768, 47.662556574, 42.5817340358, 44.8305852429, 45.1112033916, 46.7854703427, 44.9635407967, 45.022462874, 44.0150574384, 44.9477402558, 35.8322080933, 37.7650849031, 41.6911653908, 45.529027994, 45.537180654, 37.6028390812, 34.1178445701, 38.3597235063, 33.0451992429, 43.5388067537, 44.0705009564, 34.1597634806, 34.0554415174, 33.9678255596, 39.8308263293, 39.7091594781, 40.0275510494, 39.592872073, 38.8672748077, 39.7620283743, 40.5487758924, 32.8538274584, 39.6976734462, 40.1695164708, 40.4165693758, 33.1988886952, 39.9193994188, 39.8838511475, 32.0285948356, 41.4015898606, 33.7308520326, 37.6656092171, 37.7243277375, 33.8345985464, 30.5867615801, 32.988438459, 38.7657516182, 30.3068610342, 34.0511315317, 33.1087043234, 34.2743610206, 32.8355639418, 37.7559136611, 37.3003963176, 37.7074299262, 33.134965986, 40.4756778366, 37.5518226893, 33.1507545152, 34.4285733874, 37.3646197504, 34.4119039185, 34.1245895555, 34.0231891612, 38.4464423102, 34.2662462857, 29.4872995808, 37.3834416566, 33.5029980884, 34.1917745655, 37.7623705462, 33.8046419567, 32.8136961892, 40.2987127625, 29.563674661, 37.0787444634, 37.6865101361, 40.7778489465, 26.0127387534, 26.1259853923, 33.8470531941, 33.6634128948, 33.6780108904, 40.5702254423, 40.6022598635, 33.6952749077, 44.4876245694, 38.8187351557, 34.181889373, 34.0332991998, 34.0391384583, 33.9366669867, 33.8840378013, 21.4588039305, 43.5984343897, 43.6185195383, 42.095623342, 41.077181614, 41.7658017135, 41.6558950332, 33.0502149278, 38.9099241426, 26.3749012715, 41.7064727301, 29.5584850577, 40.9321713141, 33.6909533045, 33.2247457474, 26.2701700158, 26.0789340778, 33.6150103607, 38.2980424649, 41.1049145013, 37.3999252379, 32.9716582389, 30.5239578235, 33.6095976891, 41.1175631682, 37.433869763, 29.5974680902, 33.5719743356], \"legendgroup\": \"1\", \"lon\": [-94.8192070197, -118.323429032, -117.282903303, -94.6872267067, -122.001588036, -117.665296584, -119.68665285, -70.2752544531, -117.010042407, -122.153569982, -95.2628259088, -121.815983972, -117.725326968, -122.210810557, -121.287991502, -118.376567893, -117.91350475, -122.224767617, -123.117327584, -121.308690416, -87.6940348773, -122.814973469, -88.1657705099, -88.042989882, -121.984121512, -88.0838663543, -121.147605753, -86.1461278461, -85.969310702, -121.384137762, -97.4159205309, -76.0589579522, -118.004517591, -95.7809572414, -91.6781679349, -90.6051730163, -122.468298024, -88.2457679157, -117.564224471, -71.1183992378, -122.335755583, -122.468092906, -111.931802302, -112.452218439, -111.865085877, -108.54882784, -114.009863843, -96.6806742049, -96.0415076441, -115.037392161, -88.3897664444, -112.298680584, -90.7176856736, -111.746237467, -111.852210033, -74.1575145342, -149.111113424, -89.3915106344, -78.8152191642, -82.5537350816, -106.647447696, -106.697981552, -105.972662995, -86.8051937568, -71.4909587631, -122.274907975, -94.3814865856, -92.3260129764, -71.2084466944, -71.0218764062, -71.1017450879, -83.7311374448, -88.2729845986, -96.8289882328, -83.3771159714, -122.191153327, -122.323532482, -83.3733073683, -122.598539476, -83.1563037157, -117.234571922, -83.1457545154, -93.3150995817, -93.3505067942, -92.1342013763, -93.2678345304, -93.4616016242, -92.4775005494, -93.1039958305, -78.6440243809, -122.266489842, -88.1011218035, -122.937442209, -122.650032751, -122.018966106, -117.660290062, -121.96903046, -96.9829273031, -96.7313495858, -103.218361421, -118.138921644, -117.91128206, -118.018796341, -105.146327974, -104.726526621, -105.25151776, -104.867986891, -104.760664479, -104.876365322, -105.065904872, -79.8230343029, -105.116965444, -105.10195106, -105.061758435, -96.6677029773, -104.944956758, -105.062645316, -102.109700973, -73.470938682, -117.810730968, -121.880775002, -121.444621463, -118.341641983, -96.2957958614, -96.900137433, -121.302847708, -97.7554771245, -117.170935294, -96.6735373763, -119.231436551, -117.119792061, -122.440987876, -121.847228423, -122.159061655, -117.174363098, -88.9700813515, -122.312390346, -96.8201336312, -119.720187334, -121.967932117, -118.503504698, -117.56617587, -118.481563937, -122.706005935, -118.748980462, -95.1089858945, -122.025624324, -117.12239028, -118.874888411, -121.938150371, -117.8231855, -79.967381899, -111.699188517, -95.5382066661, -113.579352503, -121.764357841, -111.931220784, -80.3384522664, -80.2616762465, -118.122204765, -117.670683341, -117.773633283, -111.852431062, -112.000961848, -118.001810806, -73.2314828365, -77.0867762661, -118.24676666, -84.2027195506, -84.3512225277, -84.3703197084, -117.927850895, -157.973296737, -116.230885189, -116.39758487, -87.9825627457, -111.961589302, -71.4861485002, -91.5308854927, -96.7486409797, -77.0147205666, -80.1078208861, -71.4345615049, -95.3208389111, -73.7843883178, -117.18487699, -117.308200285, -80.2592221493, -80.2869750311, -117.867364631, -122.301093331, -73.5589363142, -122.079544343, -96.7093052991, -97.6669801882, -117.655029608, -73.4224513123, -121.892083025, -95.627455775, -117.190921143], \"marker\": {\"color\": \"#EF553B\"}, \"name\": \"1\", \"showlegend\": true, \"type\": \"scattergeo\"}, {\"customdata\": [[\"Syracuse\", \"NY\"], [\"Canton\", \"OH\"], [\"Allentown\", \"PA\"], [\"Rochester\", \"NY\"], [\"Cincinnati\", \"OH\"], [\"Toledo\", \"OH\"], [\"Erie\", \"PA\"], [\"Philadelphia\", \"PA\"], [\"Dayton\", \"OH\"], [\"Lawton\", \"OK\"], [\"Memphis\", \"TN\"], [\"North Charleston\", \"SC\"], [\"Youngstown\", \"OH\"], [\"Reading\", \"PA\"], [\"Cleveland\", \"OH\"], [\"Akron\", \"OH\"], [\"Birmingham\", \"AL\"], [\"Miami Gardens\", \"FL\"], [\"Albany\", \"GA\"], [\"Lake Charles\", \"LA\"], [\"Kansas City\", \"KS\"], [\"South Bend\", \"IN\"], [\"Muncie\", \"IN\"], [\"Hammond\", \"IN\"], [\"Gary\", \"IN\"], [\"Fort Smith\", \"AR\"], [\"Springdale\", \"AR\"], [\"Hartford\", \"CT\"], [\"Wilmington\", \"DE\"], [\"Lauderhill\", \"FL\"], [\"Compton\", \"CA\"], [\"Buffalo\", \"NY\"], [\"Savannah\", \"GA\"], [\"Macon\", \"GA\"], [\"Augusta\", \"GA\"], [\"Brockton\", \"MA\"], [\"Fall River\", \"MA\"], [\"Shreveport\", \"LA\"], [\"New Bedford\", \"MA\"], [\"Montgomery\", \"AL\"], [\"Lawrence\", \"MA\"], [\"Newark\", \"NJ\"], [\"Passaic\", \"NJ\"], [\"Paterson\", \"NJ\"], [\"Camden\", \"NJ\"], [\"Trenton\", \"NJ\"], [\"St. Louis\", \"MO\"], [\"Jackson\", \"MS\"], [\"Gulfport\", \"MS\"], [\"Flint\", \"MI\"], [\"Detroit\", \"MI\"], [\"Springfield\", \"MA\"], [\"Mobile\", \"AL\"], [\"Tuscaloosa\", \"AL\"]], \"geo\": \"geo\", \"hovertemplate\": \"group=2<br>Lat=%{lat}<br>Lon=%{lon}<br>PlaceName=%{customdata[0]}<br>StateAbbr=%{customdata[1]}<extra></extra>\", \"lat\": [43.0409202097, 40.8080192662, 40.596099618, 43.1679802918, 39.1411747124, 41.6637399604, 42.1164698754, 40.0093147808, 39.779768039, 34.6170564899, 35.1046295042, 32.9100915071, 41.0993286607, 40.3399678686, 41.4765345821, 41.0801444942, 33.5275663773, 25.9432633871, 31.5776036766, 30.2030679966, 39.1234621409, 41.6769914549, 40.1987098324, 41.6171442828, 41.5904779239, 35.3491692636, 36.1869932598, 41.7660706419, 39.7412748227, 26.1605584187, 33.892965693, 42.9014518233, 32.0283615157, 32.8320417692, 33.3644561527, 42.082071372, 41.7139907598, 32.4671618864, 41.6712667258, 32.3472645333, 42.7002772201, 40.7260693449, 40.8574581109, 40.9146874977, 39.9361910066, 40.2237289981, 38.6358122615, 32.31627222, 30.427377008, 43.0236339386, 42.3847015631, 42.1154977999, 30.6776248648, 33.2336083951], \"legendgroup\": \"2\", \"lon\": [-76.1437679213, -81.3676594998, -75.4755373968, -77.6162348882, -84.5060004524, -83.5823818449, -80.0730358517, -75.1333888571, -84.1997930517, -98.4203934803, -89.978906085, -80.0738525014, -80.6463187081, -75.9266128837, -81.6805494865, -81.5219213688, -86.7988174678, -80.2425332162, -84.1763240815, -93.2148796496, -94.7441921112, -86.2690372417, -85.3942940148, -87.4909551115, -87.3472907397, -94.3696317306, -94.1536274531, -72.6834012389, -75.5418960925, -80.2241278263, -118.227506568, -78.8475237264, -81.1783435493, -83.6495823768, -82.0708396775, -71.0241656338, -71.0996396919, -93.7962236108, -70.9441204537, -86.2677059552, -71.1626790341, -74.1752997118, -74.1281123174, -74.1624181271, -75.1072961899, -74.7639943311, -90.2451186799, -90.2124528561, -89.0701908439, -83.6920640313, -83.1053178776, -72.5395254143, -88.1184482714, -87.5268004073], \"marker\": {\"color\": \"#00cc96\"}, \"name\": \"2\", \"showlegend\": true, \"type\": \"scattergeo\"}, {\"customdata\": [[\"Waco\", \"TX\"], [\"Inglewood\", \"CA\"], [\"Lynwood\", \"CA\"], [\"Lancaster\", \"CA\"], [\"Ogden\", \"UT\"], [\"Los Angeles\", \"CA\"], [\"Long Beach\", \"CA\"], [\"Provo\", \"UT\"], [\"Manteca\", \"CA\"], [\"Tyler\", \"TX\"], [\"Pasadena\", \"TX\"], [\"San Antonio\", \"TX\"], [\"San Angelo\", \"TX\"], [\"Modesto\", \"CA\"], [\"Moreno Valley\", \"CA\"], [\"Norwalk\", \"CA\"], [\"Pharr\", \"TX\"], [\"Oakland\", \"CA\"], [\"Indio\", \"CA\"], [\"Odessa\", \"TX\"], [\"Ontario\", \"CA\"], [\"Mission\", \"TX\"], [\"Oxnard\", \"CA\"], [\"Mesquite\", \"TX\"], [\"Merced\", \"CA\"], [\"West Valley City\", \"UT\"], [\"Las Cruces\", \"NM\"], [\"Hemet\", \"CA\"], [\"Avondale\", \"AZ\"], [\"Glendale\", \"AZ\"], [\"Phoenix\", \"AZ\"], [\"Tucson\", \"AZ\"], [\"Yakima\", \"WA\"], [\"Yuma\", \"AZ\"], [\"Alhambra\", \"CA\"], [\"Anaheim\", \"CA\"], [\"Antioch\", \"CA\"], [\"Kent\", \"WA\"], [\"Apple Valley\", \"CA\"], [\"Bakersfield\", \"CA\"], [\"Hesperia\", \"CA\"], [\"Baldwin Park\", \"CA\"], [\"Palmdale\", \"CA\"], [\"Carson\", \"CA\"], [\"Downey\", \"CA\"], [\"El Cajon\", \"CA\"], [\"El Monte\", \"CA\"], [\"Escondido\", \"CA\"], [\"Fairfield\", \"CA\"], [\"Fontana\", \"CA\"], [\"Fresno\", \"CA\"], [\"Garden Grove\", \"CA\"], [\"Hawthorne\", \"CA\"], [\"Hayward\", \"CA\"], [\"Bellflower\", \"CA\"], [\"McAllen\", \"TX\"], [\"Dallas\", \"TX\"], [\"Longview\", \"TX\"], [\"Visalia\", \"CA\"], [\"Vista\", \"CA\"], [\"Westminster\", \"CA\"], [\"Greeley\", \"CO\"], [\"Pueblo\", \"CO\"], [\"Hialeah\", \"FL\"], [\"Miami\", \"FL\"], [\"Miami Beach\", \"FL\"], [\"Nampa\", \"ID\"], [\"Salem\", \"OR\"], [\"Aurora\", \"IL\"], [\"Medford\", \"OR\"], [\"Chicago\", \"IL\"], [\"Gresham\", \"OR\"], [\"Cicero\", \"IL\"], [\"Elgin\", \"IL\"], [\"Joliet\", \"IL\"], [\"Rockford\", \"IL\"], [\"Waukegan\", \"IL\"], [\"Fort Wayne\", \"IN\"], [\"Las Vegas\", \"NV\"], [\"North Las Vegas\", \"NV\"], [\"Reno\", \"NV\"], [\"Sparks\", \"NV\"], [\"Elizabeth\", \"NJ\"], [\"Jersey City\", \"NJ\"], [\"Union City\", \"NJ\"], [\"Victorville\", \"CA\"], [\"Vallejo\", \"CA\"], [\"Turlock\", \"CA\"], [\"Stockton\", \"CA\"], [\"Perris\", \"CA\"], [\"Pomona\", \"CA\"], [\"Laredo\", \"TX\"], [\"Killeen\", \"TX\"], [\"Irving\", \"TX\"], [\"Houston\", \"TX\"], [\"Grand Prairie\", \"TX\"], [\"Garland\", \"TX\"], [\"Redding\", \"CA\"], [\"Fort Worth\", \"TX\"], [\"El Paso\", \"TX\"], [\"Edinburg\", \"TX\"], [\"Rialto\", \"CA\"], [\"Lubbock\", \"TX\"], [\"Corpus Christi\", \"TX\"], [\"Riverside\", \"CA\"], [\"Bryan\", \"TX\"], [\"Brownsville\", \"TX\"], [\"Beaumont\", \"TX\"], [\"Baytown\", \"TX\"], [\"Sacramento\", \"CA\"], [\"Salinas\", \"CA\"], [\"Amarillo\", \"TX\"], [\"San Bernardino\", \"CA\"], [\"Abilene\", \"TX\"], [\"Santa Ana\", \"CA\"], [\"Santa Maria\", \"CA\"], [\"South Gate\", \"CA\"], [\"Richmond\", \"CA\"], [\"Cheyenne\", \"WY\"]], \"geo\": \"geo\", \"hovertemplate\": \"group=3<br>Lat=%{lat}<br>Lon=%{lon}<br>PlaceName=%{customdata[0]}<br>StateAbbr=%{customdata[1]}<extra></extra>\", \"lat\": [31.5597607137, 33.9565748018, 33.9239616867, 34.6934347017, 41.2281567535, 34.1182277898, 33.8060144825, 40.2457185288, 37.7961925102, 32.3154021183, 29.6589511488, 29.4721475333, 31.440468746, 37.6615478221, 33.9244314112, 33.9068808228, 26.168815399, 37.790878035, 33.7298067837, 31.879456461, 34.0392649464, 26.2033406464, 34.1959237731, 32.7641310166, 37.3055863217, 40.6887696962, 32.326638797, 33.7352277311, 33.3858367405, 33.5796123089, 33.5724138695, 32.1567244483, 46.5925792092, 32.5986027117, 34.0839734383, 33.8389076996, 37.9777042922, 47.3849636272, 34.5315984948, 35.3513302855, 34.3973476773, 34.082871519, 34.5944899803, 33.8374083001, 33.937867256, 32.8016581921, 34.073919653, 33.1346952955, 38.2558446343, 34.0974227833, 36.7826786711, 33.7786940635, 33.914667701, 37.6329591551, 33.8880417923, 26.2186289942, 32.7939804066, 32.5192857856, 36.3270623157, 33.1895481978, 33.7521523769, 40.4141369521, 38.2733957251, 25.869626948, 25.782295897, 25.8167101614, 43.5829315681, 44.923273154, 41.7637750837, 42.3371987584, 41.8372950615, 45.5024256798, 41.844539143, 42.0385402472, 41.5206390037, 42.2633180015, 42.3702955582, 41.0884920417, 36.2274148438, 36.2891993562, 39.5540171998, 39.573373276, 40.6664447729, 40.7188130852, 40.7674606884, 34.5277691103, 38.1135329247, 37.5052158271, 37.9766322679, 33.7897346094, 34.0585026366, 27.5482572475, 31.0757648143, 32.8583808131, 29.7806691396, 32.6867650238, 32.9100799867, 40.5697591271, 32.780192804, 31.8481123506, 26.3155843974, 34.1128158089, 33.5666251178, 27.7291588337, 33.9381251685, 30.6665687582, 25.9981977861, 30.084416647, 29.7571153043, 38.5666321567, 36.6889174321, 35.2003835544, 34.1392322844, 32.4546510898, 33.7366948419, 34.9333735757, 33.9447322664, 37.9479710365, 41.1460804265], \"legendgroup\": \"3\", \"lon\": [-97.1883333282, -118.344444926, -118.201648375, -118.175306356, -111.967450557, -118.408500088, -118.160894146, -111.645715857, -121.231230612, -95.3050093799, -95.1509173148, -98.5246763525, -100.452243142, -120.988548061, -117.204501895, -118.082915204, -98.1904720704, -122.214859257, -116.237258141, -102.344465435, -117.606427103, -98.322770513, -119.18187657, -96.5927445114, -120.477710571, -112.011667394, -106.789465579, -116.994605005, -112.323626619, -112.225306421, -112.088995222, -110.877085494, -120.547807614, -114.54836837, -118.135514119, -117.857613481, -121.796606971, -122.217890194, -117.211012664, -119.029786003, -117.314392219, -117.972100918, -118.105772328, -118.255936422, -118.131150116, -116.960483614, -118.029071951, -117.072122618, -122.039303253, -117.459241285, -119.794126569, -117.960111162, -118.347667728, -122.077051051, -118.127100236, -98.2451704536, -96.7656929463, -94.762197598, -119.325273214, -117.238607217, -117.993760054, -104.771170982, -104.612001218, -80.3045294666, -80.2215647762, -80.1341952652, -116.564145085, -123.0248671, -88.2900949057, -122.853625909, -87.6862308732, -122.441469029, -87.7592873023, -88.3224947104, -88.1507097756, -89.0625958362, -87.8712595095, -85.1435898792, -115.262670095, -115.088496088, -119.852733516, -119.713134168, -74.1938679138, -74.0687740635, -74.032293507, -117.353855136, -122.235518478, -120.858762412, -121.311121669, -117.223291831, -117.762551658, -99.4867797312, -97.7285651299, -96.9703058323, -95.3860033966, -97.0209311916, -96.6304258603, -122.365026322, -97.3470323225, -106.432021874, -98.1637130371, -117.388535978, -101.886335663, -97.4019095379, -117.394845824, -96.3663819223, -97.4566343763, -94.1441072222, -94.9676276217, -121.468299801, -121.631811961, -101.828292514, -117.295272732, -99.7383043723, -117.881890237, -120.443326954, -118.192550525, -122.336803759, -104.789064332], \"marker\": {\"color\": \"#ab63fa\"}, \"name\": \"3\", \"showlegend\": true, \"type\": \"scattergeo\"}],                        {\"geo\": {\"center\": {}, \"domain\": {\"x\": [0.0, 1.0], \"y\": [0.0, 1.0]}, \"scope\": \"usa\"}, \"legend\": {\"title\": {\"text\": \"Group\"}, \"tracegroupgap\": 0}, \"showlegend\": true, \"template\": {\"data\": {\"bar\": [{\"error_x\": {\"color\": \"#2a3f5f\"}, \"error_y\": {\"color\": \"#2a3f5f\"}, \"marker\": {\"line\": {\"color\": \"#E5ECF6\", \"width\": 0.5}}, \"type\": \"bar\"}], \"barpolar\": [{\"marker\": {\"line\": {\"color\": \"#E5ECF6\", \"width\": 0.5}}, \"type\": \"barpolar\"}], \"carpet\": [{\"aaxis\": {\"endlinecolor\": \"#2a3f5f\", \"gridcolor\": \"white\", \"linecolor\": \"white\", \"minorgridcolor\": \"white\", \"startlinecolor\": \"#2a3f5f\"}, \"baxis\": {\"endlinecolor\": \"#2a3f5f\", \"gridcolor\": \"white\", \"linecolor\": \"white\", \"minorgridcolor\": \"white\", \"startlinecolor\": \"#2a3f5f\"}, \"type\": \"carpet\"}], \"choropleth\": [{\"colorbar\": {\"outlinewidth\": 0, \"ticks\": \"\"}, \"type\": \"choropleth\"}], \"contour\": [{\"colorbar\": {\"outlinewidth\": 0, \"ticks\": \"\"}, \"colorscale\": [[0.0, \"#0d0887\"], [0.1111111111111111, \"#46039f\"], [0.2222222222222222, \"#7201a8\"], [0.3333333333333333, \"#9c179e\"], [0.4444444444444444, \"#bd3786\"], [0.5555555555555556, \"#d8576b\"], [0.6666666666666666, \"#ed7953\"], [0.7777777777777778, \"#fb9f3a\"], [0.8888888888888888, \"#fdca26\"], [1.0, \"#f0f921\"]], \"type\": \"contour\"}], \"contourcarpet\": [{\"colorbar\": {\"outlinewidth\": 0, \"ticks\": \"\"}, \"type\": \"contourcarpet\"}], \"heatmap\": [{\"colorbar\": {\"outlinewidth\": 0, \"ticks\": \"\"}, \"colorscale\": [[0.0, \"#0d0887\"], [0.1111111111111111, \"#46039f\"], [0.2222222222222222, \"#7201a8\"], [0.3333333333333333, \"#9c179e\"], [0.4444444444444444, \"#bd3786\"], [0.5555555555555556, \"#d8576b\"], [0.6666666666666666, \"#ed7953\"], [0.7777777777777778, \"#fb9f3a\"], [0.8888888888888888, \"#fdca26\"], [1.0, \"#f0f921\"]], \"type\": \"heatmap\"}], \"heatmapgl\": [{\"colorbar\": {\"outlinewidth\": 0, \"ticks\": \"\"}, \"colorscale\": [[0.0, \"#0d0887\"], [0.1111111111111111, \"#46039f\"], [0.2222222222222222, \"#7201a8\"], [0.3333333333333333, \"#9c179e\"], [0.4444444444444444, \"#bd3786\"], [0.5555555555555556, \"#d8576b\"], [0.6666666666666666, \"#ed7953\"], [0.7777777777777778, \"#fb9f3a\"], [0.8888888888888888, \"#fdca26\"], [1.0, \"#f0f921\"]], \"type\": \"heatmapgl\"}], \"histogram\": [{\"marker\": {\"colorbar\": {\"outlinewidth\": 0, \"ticks\": \"\"}}, \"type\": \"histogram\"}], \"histogram2d\": [{\"colorbar\": {\"outlinewidth\": 0, \"ticks\": \"\"}, \"colorscale\": [[0.0, \"#0d0887\"], [0.1111111111111111, \"#46039f\"], [0.2222222222222222, \"#7201a8\"], [0.3333333333333333, \"#9c179e\"], [0.4444444444444444, \"#bd3786\"], [0.5555555555555556, \"#d8576b\"], [0.6666666666666666, \"#ed7953\"], [0.7777777777777778, \"#fb9f3a\"], [0.8888888888888888, \"#fdca26\"], [1.0, \"#f0f921\"]], \"type\": \"histogram2d\"}], \"histogram2dcontour\": [{\"colorbar\": {\"outlinewidth\": 0, \"ticks\": \"\"}, \"colorscale\": [[0.0, \"#0d0887\"], [0.1111111111111111, \"#46039f\"], [0.2222222222222222, \"#7201a8\"], [0.3333333333333333, \"#9c179e\"], [0.4444444444444444, \"#bd3786\"], [0.5555555555555556, \"#d8576b\"], [0.6666666666666666, \"#ed7953\"], [0.7777777777777778, \"#fb9f3a\"], [0.8888888888888888, \"#fdca26\"], [1.0, \"#f0f921\"]], \"type\": \"histogram2dcontour\"}], \"mesh3d\": [{\"colorbar\": {\"outlinewidth\": 0, \"ticks\": \"\"}, \"type\": \"mesh3d\"}], \"parcoords\": [{\"line\": {\"colorbar\": {\"outlinewidth\": 0, \"ticks\": \"\"}}, \"type\": \"parcoords\"}], \"pie\": [{\"automargin\": true, \"type\": \"pie\"}], \"scatter\": [{\"marker\": {\"colorbar\": {\"outlinewidth\": 0, \"ticks\": \"\"}}, \"type\": \"scatter\"}], \"scatter3d\": [{\"line\": {\"colorbar\": {\"outlinewidth\": 0, \"ticks\": \"\"}}, \"marker\": {\"colorbar\": {\"outlinewidth\": 0, \"ticks\": \"\"}}, \"type\": \"scatter3d\"}], \"scattercarpet\": [{\"marker\": {\"colorbar\": {\"outlinewidth\": 0, \"ticks\": \"\"}}, \"type\": \"scattercarpet\"}], \"scattergeo\": [{\"marker\": {\"colorbar\": {\"outlinewidth\": 0, \"ticks\": \"\"}}, \"type\": \"scattergeo\"}], \"scattergl\": [{\"marker\": {\"colorbar\": {\"outlinewidth\": 0, \"ticks\": \"\"}}, \"type\": \"scattergl\"}], \"scattermapbox\": [{\"marker\": {\"colorbar\": {\"outlinewidth\": 0, \"ticks\": \"\"}}, \"type\": \"scattermapbox\"}], \"scatterpolar\": [{\"marker\": {\"colorbar\": {\"outlinewidth\": 0, \"ticks\": \"\"}}, \"type\": \"scatterpolar\"}], \"scatterpolargl\": [{\"marker\": {\"colorbar\": {\"outlinewidth\": 0, \"ticks\": \"\"}}, \"type\": \"scatterpolargl\"}], \"scatterternary\": [{\"marker\": {\"colorbar\": {\"outlinewidth\": 0, \"ticks\": \"\"}}, \"type\": \"scatterternary\"}], \"surface\": [{\"colorbar\": {\"outlinewidth\": 0, \"ticks\": \"\"}, \"colorscale\": [[0.0, \"#0d0887\"], [0.1111111111111111, \"#46039f\"], [0.2222222222222222, \"#7201a8\"], [0.3333333333333333, \"#9c179e\"], [0.4444444444444444, \"#bd3786\"], [0.5555555555555556, \"#d8576b\"], [0.6666666666666666, \"#ed7953\"], [0.7777777777777778, \"#fb9f3a\"], [0.8888888888888888, \"#fdca26\"], [1.0, \"#f0f921\"]], \"type\": \"surface\"}], \"table\": [{\"cells\": {\"fill\": {\"color\": \"#EBF0F8\"}, \"line\": {\"color\": \"white\"}}, \"header\": {\"fill\": {\"color\": \"#C8D4E3\"}, \"line\": {\"color\": \"white\"}}, \"type\": \"table\"}]}, \"layout\": {\"annotationdefaults\": {\"arrowcolor\": \"#2a3f5f\", \"arrowhead\": 0, \"arrowwidth\": 1}, \"coloraxis\": {\"colorbar\": {\"outlinewidth\": 0, \"ticks\": \"\"}}, \"colorscale\": {\"diverging\": [[0, \"#8e0152\"], [0.1, \"#c51b7d\"], [0.2, \"#de77ae\"], [0.3, \"#f1b6da\"], [0.4, \"#fde0ef\"], [0.5, \"#f7f7f7\"], [0.6, \"#e6f5d0\"], [0.7, \"#b8e186\"], [0.8, \"#7fbc41\"], [0.9, \"#4d9221\"], [1, \"#276419\"]], \"sequential\": [[0.0, \"#0d0887\"], [0.1111111111111111, \"#46039f\"], [0.2222222222222222, \"#7201a8\"], [0.3333333333333333, \"#9c179e\"], [0.4444444444444444, \"#bd3786\"], [0.5555555555555556, \"#d8576b\"], [0.6666666666666666, \"#ed7953\"], [0.7777777777777778, \"#fb9f3a\"], [0.8888888888888888, \"#fdca26\"], [1.0, \"#f0f921\"]], \"sequentialminus\": [[0.0, \"#0d0887\"], [0.1111111111111111, \"#46039f\"], [0.2222222222222222, \"#7201a8\"], [0.3333333333333333, \"#9c179e\"], [0.4444444444444444, \"#bd3786\"], [0.5555555555555556, \"#d8576b\"], [0.6666666666666666, \"#ed7953\"], [0.7777777777777778, \"#fb9f3a\"], [0.8888888888888888, \"#fdca26\"], [1.0, \"#f0f921\"]]}, \"colorway\": [\"#636efa\", \"#EF553B\", \"#00cc96\", \"#ab63fa\", \"#FFA15A\", \"#19d3f3\", \"#FF6692\", \"#B6E880\", \"#FF97FF\", \"#FECB52\"], \"font\": {\"color\": \"#2a3f5f\"}, \"geo\": {\"bgcolor\": \"white\", \"lakecolor\": \"white\", \"landcolor\": \"#E5ECF6\", \"showlakes\": true, \"showland\": true, \"subunitcolor\": \"white\"}, \"hoverlabel\": {\"align\": \"left\"}, \"hovermode\": \"closest\", \"mapbox\": {\"style\": \"light\"}, \"paper_bgcolor\": \"white\", \"plot_bgcolor\": \"#E5ECF6\", \"polar\": {\"angularaxis\": {\"gridcolor\": \"white\", \"linecolor\": \"white\", \"ticks\": \"\"}, \"bgcolor\": \"#E5ECF6\", \"radialaxis\": {\"gridcolor\": \"white\", \"linecolor\": \"white\", \"ticks\": \"\"}}, \"scene\": {\"xaxis\": {\"backgroundcolor\": \"#E5ECF6\", \"gridcolor\": \"white\", \"gridwidth\": 2, \"linecolor\": \"white\", \"showbackground\": true, \"ticks\": \"\", \"zerolinecolor\": \"white\"}, \"yaxis\": {\"backgroundcolor\": \"#E5ECF6\", \"gridcolor\": \"white\", \"gridwidth\": 2, \"linecolor\": \"white\", \"showbackground\": true, \"ticks\": \"\", \"zerolinecolor\": \"white\"}, \"zaxis\": {\"backgroundcolor\": \"#E5ECF6\", \"gridcolor\": \"white\", \"gridwidth\": 2, \"linecolor\": \"white\", \"showbackground\": true, \"ticks\": \"\", \"zerolinecolor\": \"white\"}}, \"shapedefaults\": {\"line\": {\"color\": \"#2a3f5f\"}}, \"ternary\": {\"aaxis\": {\"gridcolor\": \"white\", \"linecolor\": \"white\", \"ticks\": \"\"}, \"baxis\": {\"gridcolor\": \"white\", \"linecolor\": \"white\", \"ticks\": \"\"}, \"bgcolor\": \"#E5ECF6\", \"caxis\": {\"gridcolor\": \"white\", \"linecolor\": \"white\", \"ticks\": \"\"}}, \"title\": {\"x\": 0.05}, \"xaxis\": {\"automargin\": true, \"gridcolor\": \"white\", \"linecolor\": \"white\", \"ticks\": \"\", \"title\": {\"standoff\": 15}, \"zerolinecolor\": \"white\", \"zerolinewidth\": 2}, \"yaxis\": {\"automargin\": true, \"gridcolor\": \"white\", \"linecolor\": \"white\", \"ticks\": \"\", \"title\": {\"standoff\": 15}, \"zerolinecolor\": \"white\", \"zerolinewidth\": 2}}}, \"title\": {\"text\": \"Geographic Distribution of Groups\"}},                        {\"responsive\": true}                    ).then(function(){\n",
       "                            \n",
       "var gd = document.getElementById('b497785c-f5d1-4db3-8e45-f1bc0243a4cc');\n",
       "var x = new MutationObserver(function (mutations, observer) {{\n",
       "        var display = window.getComputedStyle(gd).display;\n",
       "        if (!display || display === 'none') {{\n",
       "            console.log([gd, 'removed!']);\n",
       "            Plotly.purge(gd);\n",
       "            observer.disconnect();\n",
       "        }}\n",
       "}});\n",
       "\n",
       "// Listen for the removal of the full notebook cells\n",
       "var notebookContainer = gd.closest('#notebook-container');\n",
       "if (notebookContainer) {{\n",
       "    x.observe(notebookContainer, {childList: true});\n",
       "}}\n",
       "\n",
       "// Listen for the clearing of the current output cell\n",
       "var outputEl = gd.closest('.output');\n",
       "if (outputEl) {{\n",
       "    x.observe(outputEl, {childList: true});\n",
       "}}\n",
       "\n",
       "                        })                };                });            </script>        </div>"
      ]
     },
     "metadata": {},
     "output_type": "display_data"
    }
   ],
   "source": [
    "fig = px.scatter_geo(data_frame=cdc_og, \n",
    "                     lat='Lat', \n",
    "                     lon='Lon', \n",
    "                     color='group',\n",
    "                     scope='usa', \n",
    "                     title = 'Geographic Distribution of Groups',\n",
    "                    hover_data = ['PlaceName', 'StateAbbr'])\n",
    "fig.update_layout(showlegend=True, legend_title_text='Group')\n",
    "fig.show()"
   ]
  },
  {
   "cell_type": "markdown",
   "metadata": {},
   "source": [
    "# Regional differences"
   ]
  },
  {
   "cell_type": "code",
   "execution_count": 82,
   "metadata": {},
   "outputs": [],
   "source": [
    "northeast = ['PA', 'NY', 'VT', 'NH', 'ME', 'MA', 'RI', 'CT', 'NJ']\n",
    "south = ['DE', 'MD', 'VA', 'WV', 'KY', 'NC', 'SC', 'TN', 'GA', 'AL', 'MS', 'AR', 'LA', 'TX', 'OK', 'FL']\n",
    "midwest = ['ND', 'SD', 'NE', 'KS', 'MN', 'IA', 'MO', 'WI', 'IL', 'MI', 'IN', 'OH']\n",
    "west = ['WA', 'OR', 'CA', 'ID', 'NV', 'AZ', 'UT', 'MT', 'WY', 'CO', 'NM', 'AK', 'HI']"
   ]
  },
  {
   "cell_type": "code",
   "execution_count": 83,
   "metadata": {},
   "outputs": [],
   "source": [
    "# Add a region column to the dataframes to help with visualizations.\n",
    "def add_region(df):\n",
    "    if df['StateAbbr'] in (northeast):\n",
    "        return 'North East'\n",
    "    elif df['StateAbbr'] in (south):\n",
    "        return 'South'\n",
    "    elif df['StateAbbr'] in (midwest):\n",
    "        return'Midwest'\n",
    "    else:\n",
    "        return 'West'\n",
    "    \n",
    "cdc_og['Region'] = cdc_og.apply(add_region, axis = 1)"
   ]
  },
  {
   "cell_type": "code",
   "execution_count": 84,
   "metadata": {},
   "outputs": [],
   "source": [
    "ne = cdc_og[cdc_og['Region'] == 'North East']\n",
    "sth = cdc_og[cdc_og['Region'] == 'South']\n",
    "mw = cdc_og[cdc_og['Region'] == 'Midwest']\n",
    "wst = cdc_og[cdc_og['Region'] == 'West']"
   ]
  },
  {
   "cell_type": "code",
   "execution_count": 87,
   "metadata": {},
   "outputs": [
    {
     "data": {
      "image/png": "[encoded data removed]",
      "text/plain": [
       "<Figure size 720x720 with 1 Axes>"
      ]
     },
     "metadata": {
      "needs_background": "light"
     },
     "output_type": "display_data"
    }
   ],
   "source": [
    "plt.figure(figsize = (10,10))\n",
    "sns.countplot(x = 'Region', hue = 'group', data = cdc_og, palette = ['#636dfa', '#ef563b','#00cc96','#ac63fa'])\n",
    "plt.title('Group Count by Region')\n",
    "plt.xlabel('Group Label')\n",
    "plt.ylabel('Count')\n",
    "plt.show()"
   ]
  },
  {
   "cell_type": "code",
   "execution_count": null,
   "metadata": {},
   "outputs": [],
   "source": []
  }
 ],
 "metadata": {
  "kernelspec": {
   "display_name": "Python 3",
   "language": "python",
   "name": "python3"
  },
  "language_info": {
   "codemirror_mode": {
    "name": "ipython",
    "version": 3
   },
   "file_extension": ".py",
   "mimetype": "text/x-python",
   "name": "python",
   "nbconvert_exporter": "python",
   "pygments_lexer": "ipython3",
   "version": "3.7.6"
  }
 },
 "nbformat": 4,
 "nbformat_minor": 4
}
